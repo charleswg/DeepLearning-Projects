{
 "cells": [
  {
   "cell_type": "markdown",
   "metadata": {
    "collapsed": true
   },
   "source": [
    "# Weight Initialization\n",
    "In this lesson, you'll learn how to find good initial weights for a neural network. Having good initial weights can place the neural network close to the optimal solution. This allows the neural network to come to the best solution quicker. \n",
    "\n",
    "## Testing Weights\n",
    "### Dataset\n",
    "To see how different weights perform, we'll test on the same dataset and neural network. Let's go over the dataset and neural network.\n",
    "\n",
    "We'll be using the [MNIST dataset](https://en.wikipedia.org/wiki/MNIST_database) to demonstrate the different initial weights. As a reminder, the MNIST dataset contains images of handwritten numbers, 0-9, with normalized input (0.0 - 1.0).  Run the cell below to download and load the MNIST dataset."
   ]
  },
  {
   "cell_type": "code",
   "execution_count": 1,
   "metadata": {},
   "outputs": [
    {
     "name": "stderr",
     "output_type": "stream",
     "text": [
      "/Users/yangcong/anaconda/lib/python3.6/site-packages/matplotlib/font_manager.py:280: UserWarning: Matplotlib is building the font cache using fc-list. This may take a moment.\n",
      "  'Matplotlib is building the font cache using fc-list. '\n"
     ]
    },
    {
     "name": "stdout",
     "output_type": "stream",
     "text": [
      "Getting MNIST Dataset...\n",
      "Successfully downloaded train-images-idx3-ubyte.gz 9912422 bytes.\n",
      "Extracting MNIST_data/train-images-idx3-ubyte.gz\n",
      "Successfully downloaded train-labels-idx1-ubyte.gz 28881 bytes.\n",
      "Extracting MNIST_data/train-labels-idx1-ubyte.gz\n",
      "Successfully downloaded t10k-images-idx3-ubyte.gz 1648877 bytes.\n",
      "Extracting MNIST_data/t10k-images-idx3-ubyte.gz\n",
      "Successfully downloaded t10k-labels-idx1-ubyte.gz 4542 bytes.\n",
      "Extracting MNIST_data/t10k-labels-idx1-ubyte.gz\n",
      "Data Extracted.\n"
     ]
    }
   ],
   "source": [
    "%matplotlib inline\n",
    "\n",
    "import tensorflow as tf\n",
    "import helper\n",
    "\n",
    "from tensorflow.examples.tutorials.mnist import input_data\n",
    "\n",
    "print('Getting MNIST Dataset...')\n",
    "mnist = input_data.read_data_sets(\"MNIST_data/\", one_hot=True)\n",
    "print('Data Extracted.')"
   ]
  },
  {
   "cell_type": "markdown",
   "metadata": {},
   "source": [
    "### Neural Network\n",
    "<img style=\"float: left\" src=\"images/neural_network.png\"/>"
   ]
  },
  {
   "cell_type": "markdown",
   "metadata": {},
   "source": [
    "For the neural network, we'll test on a 3 layer neural network with ReLU activations and an Adam optimizer.  The lessons you learn apply to other neural networks, including different activations and optimizers."
   ]
  },
  {
   "cell_type": "code",
   "execution_count": 2,
   "metadata": {},
   "outputs": [],
   "source": [
    "# Save the shapes of weights for each layer\n",
    "layer_1_weight_shape = (mnist.train.images.shape[1], 256)\n",
    "layer_2_weight_shape = (256, 128)\n",
    "layer_3_weight_shape = (128, mnist.train.labels.shape[1])"
   ]
  },
  {
   "cell_type": "markdown",
   "metadata": {},
   "source": [
    "## Initialize Weights\n",
    "Let's start looking at some initial weights.\n",
    "### All Zeros or Ones\n",
    "If you follow the principle of [Occam's razor](https://en.wikipedia.org/wiki/Occam's_razor), you might think setting all the weights to 0 or 1 would be the best solution.  This is not the case.\n",
    "\n",
    "With every weight the same, all the neurons at each layer are producing the same output.  This makes it hard to decide which weights to adjust.\n",
    "\n",
    "Let's compare the loss with all ones and all zero weights using `helper.compare_init_weights`.  This function will run two different initial weights on the neural network above for 2 epochs.  It will plot the loss for the first 100 batches and print out stats after the 2 epochs (~860 batches). We plot the first 100 batches to better judge which weights performed better at the start.\n",
    "\n",
    "Run the cell below to see the difference between weights of all zeros against all ones."
   ]
  },
  {
   "cell_type": "code",
   "execution_count": 3,
   "metadata": {},
   "outputs": [
    {
     "data": {
      "image/png": "[encoded data removed]",
      "text/plain": [
       "<matplotlib.figure.Figure at 0x12518dda0>"
      ]
     },
     "metadata": {},
     "output_type": "display_data"
    },
    {
     "name": "stdout",
     "output_type": "stream",
     "text": [
      "After 858 Batches (2 Epochs):\n",
      "Validation Accuracy\n",
      "   11.260% -- All Zeros\n",
      "   11.260% -- All Ones\n",
      "Loss\n",
      "    2.300  -- All Zeros\n",
      "  523.851  -- All Ones\n"
     ]
    }
   ],
   "source": [
    "all_zero_weights = [\n",
    "    tf.Variable(tf.zeros(layer_1_weight_shape)),\n",
    "    tf.Variable(tf.zeros(layer_2_weight_shape)),\n",
    "    tf.Variable(tf.zeros(layer_3_weight_shape))\n",
    "]\n",
    "\n",
    "all_one_weights = [\n",
    "    tf.Variable(tf.ones(layer_1_weight_shape)),\n",
    "    tf.Variable(tf.ones(layer_2_weight_shape)),\n",
    "    tf.Variable(tf.ones(layer_3_weight_shape))\n",
    "]\n",
    "\n",
    "helper.compare_init_weights(\n",
    "    mnist,\n",
    "    'All Zeros vs All Ones',\n",
    "    [\n",
    "        (all_zero_weights, 'All Zeros'),\n",
    "        (all_one_weights, 'All Ones')])"
   ]
  },
  {
   "cell_type": "markdown",
   "metadata": {},
   "source": [
    "As you can see the accuracy is close to guessing for both zeros and ones, around 10%.\n",
    "\n",
    "The neural network is having a hard time determining which weights need to be changed, since the neurons have the same output for each layer.  To avoid neurons with the same output, let's use unique weights.  We can also randomly select these weights to avoid being stuck in a local minimum for each run.\n",
    "\n",
    "A good solution for getting these random weights is to sample from a uniform distribution."
   ]
  },
  {
   "cell_type": "markdown",
   "metadata": {},
   "source": [
    "### Uniform Distribution\n",
    "A [uniform distribution](https://en.wikipedia.org/wiki/Uniform_distribution_(continuous%29) has the equal probability of picking any number from a set of numbers. We'll be picking from a continous distribution, so the chance of picking the same number is low. We'll use TensorFlow's `tf.random_uniform` function to pick random numbers from a uniform distribution.\n",
    "\n",
    ">#### [`tf.random_uniform(shape, minval=0, maxval=None, dtype=tf.float32, seed=None, name=None)`](https://www.tensorflow.org/api_docs/python/tf/random_uniform)\n",
    ">Outputs random values from a uniform distribution.\n",
    "\n",
    ">The generated values follow a uniform distribution in the range [minval, maxval). The lower bound minval is included in the range, while the upper bound maxval is excluded.\n",
    "\n",
    ">- **shape:** A 1-D integer Tensor or Python array. The shape of the output tensor.\n",
    "- **minval:** A 0-D Tensor or Python value of type dtype. The lower bound on the range of random values to generate. Defaults to 0.\n",
    "- **maxval:** A 0-D Tensor or Python value of type dtype. The upper bound on the range of random values to generate. Defaults to 1 if dtype is floating point.\n",
    "- **dtype:** The type of the output: float32, float64, int32, or int64.\n",
    "- **seed:** A Python integer. Used to create a random seed for the distribution. See tf.set_random_seed for behavior.\n",
    "- **name:** A name for the operation (optional).\n",
    "\n",
    "We can visualize the uniform distribution by using a histogram. Let's map the values from `tf.random_uniform([1000], -3, 3)` to a histogram using the `helper.hist_dist` function. This will be `1000` random float values from `-3` to `3`, excluding the value `3`."
   ]
  },
  {
   "cell_type": "code",
   "execution_count": 4,
   "metadata": {
    "scrolled": false
   },
   "outputs": [
    {
     "data": {
      "image/png": "[encoded data removed]",
      "text/plain": [
       "<matplotlib.figure.Figure at 0x11e7f1b70>"
      ]
     },
     "metadata": {},
     "output_type": "display_data"
    }
   ],
   "source": [
    "helper.hist_dist('Random Uniform (minval=-3, maxval=3)', tf.random_uniform([1000], -3, 3))"
   ]
  },
  {
   "cell_type": "markdown",
   "metadata": {},
   "source": [
    "The histogram used 500 buckets for the 1000 values.  Since the chance for any single bucket is the same, there should be around 2 values for each bucket. That's exactly what we see with the histogram.  Some buckets have more and some have less, but they trend around 2.\n",
    "\n",
    "Now that you understand the `tf.random_uniform` function, let's apply it to some initial weights.\n",
    "\n",
    "### Baseline\n",
    "\n",
    "\n",
    "Let's see how well the neural network trains using the default values for `tf.random_uniform`, where `minval=0.0` and `maxval=1.0`."
   ]
  },
  {
   "cell_type": "code",
   "execution_count": 5,
   "metadata": {},
   "outputs": [
    {
     "data": {
      "image/png": "[encoded data removed]",
      "text/plain": [
       "<matplotlib.figure.Figure at 0x124b609e8>"
      ]
     },
     "metadata": {},
     "output_type": "display_data"
    },
    {
     "name": "stdout",
     "output_type": "stream",
     "text": [
      "After 858 Batches (2 Epochs):\n",
      "Validation Accuracy\n",
      "   83.320% -- tf.random_uniform [0, 1)\n",
      "Loss\n",
      "    7.801  -- tf.random_uniform [0, 1)\n"
     ]
    }
   ],
   "source": [
    "# Default for tf.random_uniform is minval=0 and maxval=1\n",
    "basline_weights = [\n",
    "    tf.Variable(tf.random_uniform(layer_1_weight_shape)),\n",
    "    tf.Variable(tf.random_uniform(layer_2_weight_shape)),\n",
    "    tf.Variable(tf.random_uniform(layer_3_weight_shape))\n",
    "]\n",
    "\n",
    "helper.compare_init_weights(\n",
    "    mnist,\n",
    "    'Baseline',\n",
    "    [(basline_weights, 'tf.random_uniform [0, 1)')])"
   ]
  },
  {
   "cell_type": "markdown",
   "metadata": {},
   "source": [
    "The loss graph is showing the neural network is learning, which it didn't with all zeros or all ones. We're headed in the right direction.\n",
    "\n",
    "### General rule for setting weights\n",
    "The general rule for setting the weights in a neural network is to be close to zero without being too small. A good pracitce is to start your weights in the range of $[-y, y]$ where\n",
    "$y=1/\\sqrt{n}$ ($n$ is the number of inputs to a given neuron).\n",
    "\n",
    "Let's see if this holds true, let's first center our range over zero.  This will give us the range [-1, 1)."
   ]
  },
  {
   "cell_type": "code",
   "execution_count": null,
   "metadata": {},
   "outputs": [],
   "source": [
    "uniform_neg1to1_weights = [\n",
    "    tf.Variable(tf.random_uniform(layer_1_weight_shape, -1, 1)),\n",
    "    tf.Variable(tf.random_uniform(layer_2_weight_shape, -1, 1)),\n",
    "    tf.Variable(tf.random_uniform(layer_3_weight_shape, -1, 1))\n",
    "]\n",
    "\n",
    "helper.compare_init_weights(\n",
    "    mnist,\n",
    "    '[0, 1) vs [-1, 1)',\n",
    "    [\n",
    "        (basline_weights, 'tf.random_uniform [0, 1)'),\n",
    "        (uniform_neg1to1_weights, 'tf.random_uniform [-1, 1)')])"
   ]
  },
  {
   "cell_type": "markdown",
   "metadata": {},
   "source": [
    "We're going in the right direction, the accuracy and loss is better with [-1, 1). We still want smaller weights. How far can we go before it's too small?"
   ]
  },
  {
   "cell_type": "markdown",
   "metadata": {},
   "source": [
    "### Too small\n",
    "Let's compare [-0.1, 0.1), [-0.01, 0.01), and [-0.001, 0.001) to see how small is too small.  We'll also set `plot_n_batches=None` to show all the batches in the plot."
   ]
  },
  {
   "cell_type": "code",
   "execution_count": null,
   "metadata": {},
   "outputs": [],
   "source": [
    "uniform_neg01to01_weights = [\n",
    "    tf.Variable(tf.random_uniform(layer_1_weight_shape, -0.1, 0.1)),\n",
    "    tf.Variable(tf.random_uniform(layer_2_weight_shape, -0.1, 0.1)),\n",
    "    tf.Variable(tf.random_uniform(layer_3_weight_shape, -0.1, 0.1))\n",
    "]\n",
    "\n",
    "uniform_neg001to001_weights = [\n",
    "    tf.Variable(tf.random_uniform(layer_1_weight_shape, -0.01, 0.01)),\n",
    "    tf.Variable(tf.random_uniform(layer_2_weight_shape, -0.01, 0.01)),\n",
    "    tf.Variable(tf.random_uniform(layer_3_weight_shape, -0.01, 0.01))\n",
    "]\n",
    "\n",
    "uniform_neg0001to0001_weights = [\n",
    "    tf.Variable(tf.random_uniform(layer_1_weight_shape, -0.001, 0.001)),\n",
    "    tf.Variable(tf.random_uniform(layer_2_weight_shape, -0.001, 0.001)),\n",
    "    tf.Variable(tf.random_uniform(layer_3_weight_shape, -0.001, 0.001))\n",
    "]\n",
    "\n",
    "helper.compare_init_weights(\n",
    "    mnist,\n",
    "    '[-1, 1) vs [-0.1, 0.1) vs [-0.01, 0.01) vs [-0.001, 0.001)',\n",
    "    [\n",
    "        (uniform_neg1to1_weights, '[-1, 1)'),\n",
    "        (uniform_neg01to01_weights, '[-0.1, 0.1)'),\n",
    "        (uniform_neg001to001_weights, '[-0.01, 0.01)'),\n",
    "        (uniform_neg0001to0001_weights, '[-0.001, 0.001)')],\n",
    "    plot_n_batches=None)"
   ]
  },
  {
   "cell_type": "markdown",
   "metadata": {},
   "source": [
    "Looks like anything [-0.01, 0.01) or smaller is too small.  Let's compare this to our typical rule of using the range $y=1/\\sqrt{n}$."
   ]
  },
  {
   "cell_type": "code",
   "execution_count": null,
   "metadata": {},
   "outputs": [],
   "source": [
    "import numpy as np\n",
    "\n",
    "general_rule_weights = [\n",
    "    tf.Variable(tf.random_uniform(layer_1_weight_shape, -1/np.sqrt(layer_1_weight_shape[0]), 1/np.sqrt(layer_1_weight_shape[0]))),\n",
    "    tf.Variable(tf.random_uniform(layer_2_weight_shape, -1/np.sqrt(layer_2_weight_shape[0]), 1/np.sqrt(layer_2_weight_shape[0]))),\n",
    "    tf.Variable(tf.random_uniform(layer_3_weight_shape, -1/np.sqrt(layer_3_weight_shape[0]), 1/np.sqrt(layer_3_weight_shape[0])))\n",
    "]\n",
    "\n",
    "helper.compare_init_weights(\n",
    "    mnist,\n",
    "    '[-0.1, 0.1) vs General Rule',\n",
    "    [\n",
    "        (uniform_neg01to01_weights, '[-0.1, 0.1)'),\n",
    "        (general_rule_weights, 'General Rule')],\n",
    "    plot_n_batches=None)"
   ]
  },
  {
   "cell_type": "markdown",
   "metadata": {},
   "source": [
    "The range we found and $y=1/\\sqrt{n}$ are really close.\n",
    "\n",
    "Since the uniform distribution has the same chance to pick anything in the range, what if we used a distribution that had a higher chance of picking numbers closer to 0.  Let's look at the normal distribution.\n",
    "### Normal Distribution\n",
    "Unlike the uniform distribution, the [normal distribution](https://en.wikipedia.org/wiki/Normal_distribution) has a higher likelihood of picking number close to it's mean. To visualize it, let's plot values from TensorFlow's `tf.random_normal` function to a histogram.\n",
    "\n",
    ">[tf.random_normal(shape, mean=0.0, stddev=1.0, dtype=tf.float32, seed=None, name=None)](https://www.tensorflow.org/api_docs/python/tf/random_normal)\n",
    "\n",
    ">Outputs random values from a normal distribution.\n",
    "\n",
    ">- **shape:** A 1-D integer Tensor or Python array. The shape of the output tensor.\n",
    "- **mean:** A 0-D Tensor or Python value of type dtype. The mean of the normal distribution.\n",
    "- **stddev:** A 0-D Tensor or Python value of type dtype. The standard deviation of the normal distribution.\n",
    "- **dtype:** The type of the output.\n",
    "- **seed:** A Python integer. Used to create a random seed for the distribution. See tf.set_random_seed for behavior.\n",
    "- **name:** A name for the operation (optional)."
   ]
  },
  {
   "cell_type": "code",
   "execution_count": null,
   "metadata": {},
   "outputs": [],
   "source": [
    "helper.hist_dist('Random Normal (mean=0.0, stddev=1.0)', tf.random_normal([1000]))"
   ]
  },
  {
   "cell_type": "markdown",
   "metadata": {},
   "source": [
    "Let's compare the normal distribution against the previous uniform distribution."
   ]
  },
  {
   "cell_type": "code",
   "execution_count": null,
   "metadata": {},
   "outputs": [],
   "source": [
    "normal_01_weights = [\n",
    "    tf.Variable(tf.random_normal(layer_1_weight_shape, stddev=0.1)),\n",
    "    tf.Variable(tf.random_normal(layer_2_weight_shape, stddev=0.1)),\n",
    "    tf.Variable(tf.random_normal(layer_3_weight_shape, stddev=0.1))\n",
    "]\n",
    "\n",
    "helper.compare_init_weights(\n",
    "    mnist,\n",
    "    'Uniform [-0.1, 0.1) vs Normal stddev 0.1',\n",
    "    [\n",
    "        (uniform_neg01to01_weights, 'Uniform [-0.1, 0.1)'),\n",
    "        (normal_01_weights, 'Normal stddev 0.1')])"
   ]
  },
  {
   "cell_type": "markdown",
   "metadata": {},
   "source": [
    "The normal distribution gave a slight increasse in accuracy and loss.  Let's move closer to 0 and drop picked numbers that are `x` number of standard deviations away.  This distribution is called [Truncated Normal Distribution](https://en.wikipedia.org/wiki/Truncated_normal_distribution%29).\n",
    "### Truncated Normal Distribution\n",
    ">[tf.truncated_normal(shape, mean=0.0, stddev=1.0, dtype=tf.float32, seed=None, name=None)](https://www.tensorflow.org/api_docs/python/tf/truncated_normal)\n",
    "\n",
    ">Outputs random values from a truncated normal distribution.\n",
    "\n",
    ">The generated values follow a normal distribution with specified mean and standard deviation, except that values whose magnitude is more than 2 standard deviations from the mean are dropped and re-picked.\n",
    "\n",
    ">- **shape:** A 1-D integer Tensor or Python array. The shape of the output tensor.\n",
    "- **mean:** A 0-D Tensor or Python value of type dtype. The mean of the truncated normal distribution.\n",
    "- **stddev:** A 0-D Tensor or Python value of type dtype. The standard deviation of the truncated normal distribution.\n",
    "- **dtype:** The type of the output.\n",
    "- **seed:** A Python integer. Used to create a random seed for the distribution. See tf.set_random_seed for behavior.\n",
    "- **name:** A name for the operation (optional)."
   ]
  },
  {
   "cell_type": "code",
   "execution_count": null,
   "metadata": {},
   "outputs": [],
   "source": [
    "helper.hist_dist('Truncated Normal (mean=0.0, stddev=1.0)', tf.truncated_normal([1000]))"
   ]
  },
  {
   "cell_type": "markdown",
   "metadata": {},
   "source": [
    "Again, let's compare the previous results with the previous distribution."
   ]
  },
  {
   "cell_type": "code",
   "execution_count": null,
   "metadata": {},
   "outputs": [],
   "source": [
    "trunc_normal_01_weights = [\n",
    "    tf.Variable(tf.truncated_normal(layer_1_weight_shape, stddev=0.1)),\n",
    "    tf.Variable(tf.truncated_normal(layer_2_weight_shape, stddev=0.1)),\n",
    "    tf.Variable(tf.truncated_normal(layer_3_weight_shape, stddev=0.1))\n",
    "]\n",
    "\n",
    "helper.compare_init_weights(\n",
    "    mnist,\n",
    "    'Normal vs Truncated Normal',\n",
    "    [\n",
    "        (normal_01_weights, 'Normal'),\n",
    "        (trunc_normal_01_weights, 'Truncated Normal')])"
   ]
  },
  {
   "cell_type": "markdown",
   "metadata": {},
   "source": [
    "There's no difference between the two, but that's because the neural network we're using is too small. A larger neural network will pick more points on the normal distribution, increasing the likelihood it's choices are larger than 2 standard deviations.\n",
    "\n",
    "We've come a long way from the first set of weights we tested. Let's see the difference between the weights we used then and now."
   ]
  },
  {
   "cell_type": "code",
   "execution_count": null,
   "metadata": {},
   "outputs": [],
   "source": [
    "helper.compare_init_weights(\n",
    "    mnist,\n",
    "    'Baseline vs Truncated Normal',\n",
    "    [\n",
    "        (basline_weights, 'Baseline'),\n",
    "        (trunc_normal_01_weights, 'Truncated Normal')])"
   ]
  },
  {
   "cell_type": "markdown",
   "metadata": {},
   "source": [
    "That's a huge difference. You can barely see the truncated normal line.  However, this is not the end your learning path.  We've provided more resources for initializing weights in the classroom!"
   ]
  }
 ],
 "metadata": {
  "kernelspec": {
   "display_name": "Python 3",
   "language": "python",
   "name": "python3"
  },
  "language_info": {
   "codemirror_mode": {
    "name": "ipython",
    "version": 3
   },
   "file_extension": ".py",
   "mimetype": "text/x-python",
   "name": "python",
   "nbconvert_exporter": "python",
   "pygments_lexer": "ipython3",
   "version": "3.6.1"
  }
 },
 "nbformat": 4,
 "nbformat_minor": 1
}
