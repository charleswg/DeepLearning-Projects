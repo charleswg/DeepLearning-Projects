{
 "cells": [
  {
   "cell_type": "markdown",
   "metadata": {},
   "source": [
    "# TV Script Generation\n",
    "In this project, you'll generate your own [Simpsons](https://en.wikipedia.org/wiki/The_Simpsons) TV scripts using RNNs.  You'll be using part of the [Simpsons dataset](https://www.kaggle.com/wcukierski/the-simpsons-by-the-data) of scripts from 27 seasons.  The Neural Network you'll build will generate a new TV script for a scene at [Moe's Tavern](https://simpsonswiki.com/wiki/Moe's_Tavern).\n",
    "## Get the Data\n",
    "The data is already provided for you.  You'll be using a subset of the original dataset.  It consists of only the scenes in Moe's Tavern.  This doesn't include other versions of the tavern, like \"Moe's Cavern\", \"Flaming Moe's\", \"Uncle Moe's Family Feed-Bag\", etc.."
   ]
  },
  {
   "cell_type": "code",
   "execution_count": 1,
   "metadata": {
    "collapsed": true
   },
   "outputs": [],
   "source": [
    "\"\"\"\n",
    "DON'T MODIFY ANYTHING IN THIS CELL\n",
    "\"\"\"\n",
    "import helper\n",
    "\n",
    "data_dir = './data/simpsons/moes_tavern_lines.txt'\n",
    "text = helper.load_data(data_dir)\n",
    "# Ignore notice, since we don't use it for analysing the data\n",
    "text = text[81:]"
   ]
  },
  {
   "cell_type": "markdown",
   "metadata": {},
   "source": [
    "## Explore the Data\n",
    "Play around with `view_sentence_range` to view different parts of the data."
   ]
  },
  {
   "cell_type": "code",
   "execution_count": 2,
   "metadata": {},
   "outputs": [
    {
     "name": "stdout",
     "output_type": "stream",
     "text": [
      "Dataset Stats\n",
      "Roughly the number of unique words: 11492\n",
      "Number of scenes: 262\n",
      "Average number of sentences in each scene: 15.248091603053435\n",
      "Number of lines: 4257\n",
      "Average number of words in each line: 11.50434578341555\n",
      "\n",
      "The sentences 0 to 10:\n",
      "Moe_Szyslak: (INTO PHONE) Moe's Tavern. Where the elite meet to drink.\n",
      "Bart_Simpson: Eh, yeah, hello, is Mike there? Last name, Rotch.\n",
      "Moe_Szyslak: (INTO PHONE) Hold on, I'll check. (TO BARFLIES) Mike Rotch. Mike Rotch. Hey, has anybody seen Mike Rotch, lately?\n",
      "Moe_Szyslak: (INTO PHONE) Listen you little puke. One of these days I'm gonna catch you, and I'm gonna carve my name on your back with an ice pick.\n",
      "Moe_Szyslak: What's the matter Homer? You're not your normal effervescent self.\n",
      "Homer_Simpson: I got my problems, Moe. Give me another one.\n",
      "Moe_Szyslak: Homer, hey, you should not drink to forget your problems.\n",
      "Barney_Gumble: Yeah, you should only drink to enhance your social skills.\n",
      "\n",
      "\n"
     ]
    }
   ],
   "source": [
    "view_sentence_range = (0, 10)\n",
    "\n",
    "\"\"\"\n",
    "DON'T MODIFY ANYTHING IN THIS CELL\n",
    "\"\"\"\n",
    "import numpy as np\n",
    "\n",
    "print('Dataset Stats')\n",
    "print('Roughly the number of unique words: {}'.format(len({word: None for word in text.split()})))\n",
    "scenes = text.split('\\n\\n')\n",
    "print('Number of scenes: {}'.format(len(scenes)))\n",
    "sentence_count_scene = [scene.count('\\n') for scene in scenes]\n",
    "print('Average number of sentences in each scene: {}'.format(np.average(sentence_count_scene)))\n",
    "\n",
    "sentences = [sentence for scene in scenes for sentence in scene.split('\\n')]\n",
    "print('Number of lines: {}'.format(len(sentences)))\n",
    "word_count_sentence = [len(sentence.split()) for sentence in sentences]\n",
    "print('Average number of words in each line: {}'.format(np.average(word_count_sentence)))\n",
    "\n",
    "print()\n",
    "print('The sentences {} to {}:'.format(*view_sentence_range))\n",
    "print('\\n'.join(text.split('\\n')[view_sentence_range[0]:view_sentence_range[1]]))"
   ]
  },
  {
   "cell_type": "markdown",
   "metadata": {},
   "source": [
    "## Implement Preprocessing Functions\n",
    "The first thing to do to any dataset is preprocessing.  Implement the following preprocessing functions below:\n",
    "- Lookup Table\n",
    "- Tokenize Punctuation\n",
    "\n",
    "### Lookup Table\n",
    "To create a word embedding, you first need to transform the words to ids.  In this function, create two dictionaries:\n",
    "- Dictionary to go from the words to an id, we'll call `vocab_to_int`\n",
    "- Dictionary to go from the id to word, we'll call `int_to_vocab`\n",
    "\n",
    "Return these dictionaries in the following tuple `(vocab_to_int, int_to_vocab)`"
   ]
  },
  {
   "cell_type": "code",
   "execution_count": 3,
   "metadata": {},
   "outputs": [
    {
     "name": "stdout",
     "output_type": "stream",
     "text": [
      "Tests Passed\n"
     ]
    }
   ],
   "source": [
    "import numpy as np\n",
    "import problem_unittests as tests\n",
    "\n",
    "def create_lookup_tables(text):\n",
    "    \"\"\"\n",
    "    Create lookup tables for vocabulary\n",
    "    :param text: The text of tv scripts split into words\n",
    "    :return: A tuple of dicts (vocab_to_int, int_to_vocab)\n",
    "    \"\"\"\n",
    "    # TODO: Implement Function\n",
    "    \n",
    "    vocab = sorted(set(text))\n",
    "    vocab_to_int = {c:i for i,c in enumerate(vocab)}\n",
    "    int_to_vocab = dict(enumerate(vocab))\n",
    "    return (vocab_to_int, int_to_vocab)\n",
    "\n",
    "\n",
    "\"\"\"\n",
    "DON'T MODIFY ANYTHING IN THIS CELL THAT IS BELOW THIS LINE\n",
    "\"\"\"\n",
    "tests.test_create_lookup_tables(create_lookup_tables)"
   ]
  },
  {
   "cell_type": "markdown",
   "metadata": {},
   "source": [
    "### Tokenize Punctuation\n",
    "We'll be splitting the script into a word array using spaces as delimiters.  However, punctuations like periods and exclamation marks make it hard for the neural network to distinguish between the word \"bye\" and \"bye!\".\n",
    "\n",
    "Implement the function `token_lookup` to return a dict that will be used to tokenize symbols like \"!\" into \"||Exclamation_Mark||\".  Create a dictionary for the following symbols where the symbol is the key and value is the token:\n",
    "- Period ( . )\n",
    "- Comma ( , )\n",
    "- Quotation Mark ( \" )\n",
    "- Semicolon ( ; )\n",
    "- Exclamation mark ( ! )\n",
    "- Question mark ( ? )\n",
    "- Left Parentheses ( ( )\n",
    "- Right Parentheses ( ) )\n",
    "- Dash ( -- )\n",
    "- Return ( \\n )\n",
    "\n",
    "This dictionary will be used to token the symbols and add the delimiter (space) around it.  This separates the symbols as it's own word, making it easier for the neural network to predict on the next word. Make sure you don't use a token that could be confused as a word. Instead of using the token \"dash\", try using something like \"||dash||\"."
   ]
  },
  {
   "cell_type": "code",
   "execution_count": 4,
   "metadata": {},
   "outputs": [
    {
     "name": "stdout",
     "output_type": "stream",
     "text": [
      "Tests Passed\n"
     ]
    }
   ],
   "source": [
    "def token_lookup():\n",
    "    \"\"\"\n",
    "    Generate a dict to turn punctuation into a token.\n",
    "    :return: Tokenize dictionary where the key is the punctuation and the value is the token\n",
    "    \"\"\"\n",
    "    # TODO: Implement Function\n",
    "    \n",
    "    punc_to_token = {\".\": \"||Period||\", \n",
    "                     \",\": \"||Comma||\", \n",
    "                    '\"': \"||Quotation_Mark||\",\n",
    "                    \";\": \"||Semicolon||\",\n",
    "                    \"!\": \"||Exclamation_mark||\",\n",
    "                    \"?\": \"||Question_mark||\",\n",
    "                    \"(\": \"||Left_Parentheses||\",\n",
    "                    \")\": \"||Right_Parentheses||\",\n",
    "                    \"--\": \"||Dash||\",\n",
    "                    \"\\n\": \"||Return||\"}\n",
    "    \n",
    "    return punc_to_token\n",
    "\n",
    "\"\"\"\n",
    "DON'T MODIFY ANYTHING IN THIS CELL THAT IS BELOW THIS LINE\n",
    "\"\"\"\n",
    "tests.test_tokenize(token_lookup)"
   ]
  },
  {
   "cell_type": "markdown",
   "metadata": {},
   "source": [
    "## Preprocess all the data and save it\n",
    "Running the code cell below will preprocess all the data and save it to file."
   ]
  },
  {
   "cell_type": "code",
   "execution_count": 5,
   "metadata": {
    "collapsed": true
   },
   "outputs": [],
   "source": [
    "\"\"\"\n",
    "DON'T MODIFY ANYTHING IN THIS CELL\n",
    "\"\"\"\n",
    "# Preprocess Training, Validation, and Testing Data\n",
    "helper.preprocess_and_save_data(data_dir, token_lookup, create_lookup_tables)"
   ]
  },
  {
   "cell_type": "markdown",
   "metadata": {},
   "source": [
    "# Check Point\n",
    "This is your first checkpoint. If you ever decide to come back to this notebook or have to restart the notebook, you can start from here. The preprocessed data has been saved to disk."
   ]
  },
  {
   "cell_type": "code",
   "execution_count": 6,
   "metadata": {
    "collapsed": true
   },
   "outputs": [],
   "source": [
    "\"\"\"\n",
    "DON'T MODIFY ANYTHING IN THIS CELL\n",
    "\"\"\"\n",
    "import helper\n",
    "import numpy as np\n",
    "import problem_unittests as tests\n",
    "\n",
    "int_text, vocab_to_int, int_to_vocab, token_dict = helper.load_preprocess()"
   ]
  },
  {
   "cell_type": "markdown",
   "metadata": {},
   "source": [
    "## Build the Neural Network\n",
    "You'll build the components necessary to build a RNN by implementing the following functions below:\n",
    "- get_inputs\n",
    "- get_init_cell\n",
    "- get_embed\n",
    "- build_rnn\n",
    "- build_nn\n",
    "- get_batches\n",
    "\n",
    "### Check the Version of TensorFlow and Access to GPU"
   ]
  },
  {
   "cell_type": "code",
   "execution_count": 7,
   "metadata": {},
   "outputs": [
    {
     "name": "stdout",
     "output_type": "stream",
     "text": [
      "TensorFlow Version: 1.3.0\n",
      "Default GPU Device: /gpu:0\n"
     ]
    }
   ],
   "source": [
    "\"\"\"\n",
    "DON'T MODIFY ANYTHING IN THIS CELL\n",
    "\"\"\"\n",
    "from distutils.version import LooseVersion\n",
    "import warnings\n",
    "import tensorflow as tf\n",
    "\n",
    "# Check TensorFlow Version\n",
    "assert LooseVersion(tf.__version__) >= LooseVersion('1.0'), 'Please use TensorFlow version 1.0 or newer'\n",
    "print('TensorFlow Version: {}'.format(tf.__version__))\n",
    "\n",
    "# Check for a GPU\n",
    "if not tf.test.gpu_device_name():\n",
    "    warnings.warn('No GPU found. Please use a GPU to train your neural network.')\n",
    "else:\n",
    "    print('Default GPU Device: {}'.format(tf.test.gpu_device_name()))"
   ]
  },
  {
   "cell_type": "markdown",
   "metadata": {},
   "source": [
    "### Input\n",
    "Implement the `get_inputs()` function to create TF Placeholders for the Neural Network.  It should create the following placeholders:\n",
    "- Input text placeholder named \"input\" using the [TF Placeholder](https://www.tensorflow.org/api_docs/python/tf/placeholder) `name` parameter.\n",
    "- Targets placeholder\n",
    "- Learning Rate placeholder\n",
    "\n",
    "Return the placeholders in the following tuple `(Input, Targets, LearningRate)`"
   ]
  },
  {
   "cell_type": "code",
   "execution_count": 8,
   "metadata": {},
   "outputs": [
    {
     "name": "stdout",
     "output_type": "stream",
     "text": [
      "Tests Passed\n"
     ]
    }
   ],
   "source": [
    "def get_inputs():\n",
    "    \"\"\"\n",
    "    Create TF Placeholders for input, targets, and learning rate.\n",
    "    :return: Tuple (input, targets, learning rate)\n",
    "    \"\"\"\n",
    "    # TODO: Implement Function\n",
    "    \n",
    "    Inputs = tf.placeholder(tf.int32, [None, None], name = 'input')\n",
    "    Targets = tf.placeholder(tf.int32, [None, None], name = 'target')\n",
    "    LearningRate = tf.placeholder(tf.float32)\n",
    "    return (Inputs, Targets, LearningRate)\n",
    "\n",
    "\n",
    "\"\"\"\n",
    "DON'T MODIFY ANYTHING IN THIS CELL THAT IS BELOW THIS LINE\n",
    "\"\"\"\n",
    "tests.test_get_inputs(get_inputs)"
   ]
  },
  {
   "cell_type": "markdown",
   "metadata": {},
   "source": [
    "### Build RNN Cell and Initialize\n",
    "Stack one or more [`BasicLSTMCells`](https://www.tensorflow.org/api_docs/python/tf/contrib/rnn/BasicLSTMCell) in a [`MultiRNNCell`](https://www.tensorflow.org/api_docs/python/tf/contrib/rnn/MultiRNNCell).\n",
    "- The Rnn size should be set using `rnn_size`\n",
    "- Initalize Cell State using the MultiRNNCell's [`zero_state()`](https://www.tensorflow.org/api_docs/python/tf/contrib/rnn/MultiRNNCell#zero_state) function\n",
    "    - Apply the name \"initial_state\" to the initial state using [`tf.identity()`](https://www.tensorflow.org/api_docs/python/tf/identity)\n",
    "\n",
    "Return the cell and initial state in the following tuple `(Cell, InitialState)`"
   ]
  },
  {
   "cell_type": "code",
   "execution_count": 122,
   "metadata": {},
   "outputs": [
    {
     "name": "stdout",
     "output_type": "stream",
     "text": [
      "Tests Passed\n"
     ]
    }
   ],
   "source": [
    "def get_init_cell(batch_size, rnn_size):\n",
    "    \"\"\"\n",
    "    Create an RNN Cell and initialize it.\n",
    "    :param batch_size: Size of batches\n",
    "    :param rnn_size: Size of RNNs\n",
    "    :return: Tuple (cell, initialize state)\n",
    "    \"\"\"\n",
    "    \n",
    "    # LSTM layers \n",
    "    num_layers = 2\n",
    "    # drop out \n",
    "    keep_prob = 0.7\n",
    "\n",
    "    def build_cell(lstm_size, keep_prob):\n",
    "        # Use a basic LSTM cell\n",
    "        lstm = tf.contrib.rnn.BasicLSTMCell(lstm_size)\n",
    "\n",
    "        # Add dropout to the cell\n",
    "        drop = tf.contrib.rnn.DropoutWrapper(lstm, output_keep_prob=keep_prob)\n",
    "        return drop\n",
    "    \n",
    "    # Stack up multiple LSTM layers, for deep learning\n",
    "    Cell = tf.contrib.rnn.MultiRNNCell([build_cell(lstm_size = rnn_size, keep_prob = keep_prob) for _ in range(num_layers)])\n",
    "    \n",
    "    Initial_state = tf.identity(Cell.zero_state(batch_size, tf.float32), name = 'initial_state')\n",
    "    \n",
    "    # TODO: Implement Function\n",
    "    return (Cell, Initial_state)\n",
    "\n",
    "\n",
    "\"\"\"\n",
    "DON'T MODIFY ANYTHING IN THIS CELL THAT IS BELOW THIS LINE\n",
    "\"\"\"\n",
    "tests.test_get_init_cell(get_init_cell)"
   ]
  },
  {
   "cell_type": "markdown",
   "metadata": {},
   "source": [
    "### Word Embedding\n",
    "Apply embedding to `input_data` using TensorFlow.  Return the embedded sequence."
   ]
  },
  {
   "cell_type": "code",
   "execution_count": 123,
   "metadata": {},
   "outputs": [
    {
     "name": "stdout",
     "output_type": "stream",
     "text": [
      "Tests Passed\n"
     ]
    }
   ],
   "source": [
    "def get_embed(input_data, vocab_size, embed_dim):\n",
    "    \"\"\"\n",
    "    Create embedding for <input_data>.\n",
    "    :param input_data: TF placeholder for text input.\n",
    "    :param vocab_size: Number of words in vocabulary.\n",
    "    :param embed_dim: Number of embedding dimensions\n",
    "    :return: Embedded input.\n",
    "    \"\"\"\n",
    "    # TODO: Implement Function\n",
    "    \n",
    "    embedding = tf.Variable(tf.random_uniform((vocab_size, embed_dim), -0.01, 0.01))\n",
    "    embed = tf.nn.embedding_lookup(embedding, input_data)\n",
    "    return embed\n",
    "\n",
    "\"\"\"\n",
    "DON'T MODIFY ANYTHING IN THIS CELL THAT IS BELOW THIS LINE\n",
    "\"\"\"\n",
    "tests.test_get_embed(get_embed)"
   ]
  },
  {
   "cell_type": "markdown",
   "metadata": {},
   "source": [
    "### Build RNN\n",
    "You created a RNN Cell in the `get_init_cell()` function.  Time to use the cell to create a RNN.\n",
    "- Build the RNN using the [`tf.nn.dynamic_rnn()`](https://www.tensorflow.org/api_docs/python/tf/nn/dynamic_rnn)\n",
    " - Apply the name \"final_state\" to the final state using [`tf.identity()`](https://www.tensorflow.org/api_docs/python/tf/identity)\n",
    "\n",
    "Return the outputs and final_state state in the following tuple `(Outputs, FinalState)` "
   ]
  },
  {
   "cell_type": "code",
   "execution_count": 124,
   "metadata": {},
   "outputs": [
    {
     "name": "stdout",
     "output_type": "stream",
     "text": [
      "Tests Passed\n"
     ]
    }
   ],
   "source": [
    "def build_rnn(cell, inputs):\n",
    "    \"\"\"\n",
    "    Create a RNN using a RNN Cell\n",
    "    :param cell: RNN Cell\n",
    "    :param inputs: Input text data\n",
    "    :return: Tuple (Outputs, Final State)\n",
    "    \"\"\"\n",
    "    # TODO: Implement Function\n",
    "    Outputs, Final_state = tf.nn.dynamic_rnn(cell, inputs, dtype = tf.float32)\n",
    "    Final_state = tf.identity(Final_state, name= 'final_state')\n",
    "    return (Outputs, Final_state)\n",
    "\n",
    "\n",
    "\n",
    "\"\"\"\n",
    "DON'T MODIFY ANYTHING IN THIS CELL THAT IS BELOW THIS LINE\n",
    "\"\"\"\n",
    "tests.test_build_rnn(build_rnn)"
   ]
  },
  {
   "cell_type": "markdown",
   "metadata": {},
   "source": [
    "### Build the Neural Network\n",
    "Apply the functions you implemented above to:\n",
    "- Apply embedding to `input_data` using your `get_embed(input_data, vocab_size, embed_dim)` function.\n",
    "- Build RNN using `cell` and your `build_rnn(cell, inputs)` function.\n",
    "- Apply a fully connected layer with a linear activation and `vocab_size` as the number of outputs.\n",
    "\n",
    "Return the logits and final state in the following tuple (Logits, FinalState) "
   ]
  },
  {
   "cell_type": "code",
   "execution_count": 125,
   "metadata": {},
   "outputs": [
    {
     "ename": "AssertionError",
     "evalue": "Final state wrong shape.  Found shape (2, 2, 128, 256)",
     "output_type": "error",
     "traceback": [
      "\u001b[0;31m---------------------------------------------------------------------------\u001b[0m",
      "\u001b[0;31mAssertionError\u001b[0m                            Traceback (most recent call last)",
      "\u001b[0;32m<ipython-input-125-e4c5846baa91>\u001b[0m in \u001b[0;36m<module>\u001b[0;34m()\u001b[0m\n\u001b[1;32m     19\u001b[0m \u001b[0mDON\u001b[0m\u001b[0;31m'\u001b[0m\u001b[0mT\u001b[0m \u001b[0mMODIFY\u001b[0m \u001b[0mANYTHING\u001b[0m \u001b[0mIN\u001b[0m \u001b[0mTHIS\u001b[0m \u001b[0mCELL\u001b[0m \u001b[0mTHAT\u001b[0m \u001b[0mIS\u001b[0m \u001b[0mBELOW\u001b[0m \u001b[0mTHIS\u001b[0m \u001b[0mLINE\u001b[0m\u001b[0;34m\u001b[0m\u001b[0m\n\u001b[1;32m     20\u001b[0m \"\"\"\n\u001b[0;32m---> 21\u001b[0;31m \u001b[0mtests\u001b[0m\u001b[0;34m.\u001b[0m\u001b[0mtest_build_nn\u001b[0m\u001b[0;34m(\u001b[0m\u001b[0mbuild_nn\u001b[0m\u001b[0;34m)\u001b[0m\u001b[0;34m\u001b[0m\u001b[0m\n\u001b[0m",
      "\u001b[0;32m~/.jupyter/deep-learning/tv-script-generation/problem_unittests.py\u001b[0m in \u001b[0;36mtest_build_nn\u001b[0;34m(build_nn)\u001b[0m\n\u001b[1;32m    265\u001b[0m             \u001b[0;34m'Outputs has wrong shape.  Found shape {}'\u001b[0m\u001b[0;34m.\u001b[0m\u001b[0mformat\u001b[0m\u001b[0;34m(\u001b[0m\u001b[0mlogits\u001b[0m\u001b[0;34m.\u001b[0m\u001b[0mget_shape\u001b[0m\u001b[0;34m(\u001b[0m\u001b[0;34m)\u001b[0m\u001b[0;34m)\u001b[0m\u001b[0;34m\u001b[0m\u001b[0m\n\u001b[1;32m    266\u001b[0m         \u001b[0;32massert\u001b[0m \u001b[0mfinal_state\u001b[0m\u001b[0;34m.\u001b[0m\u001b[0mget_shape\u001b[0m\u001b[0;34m(\u001b[0m\u001b[0;34m)\u001b[0m\u001b[0;34m.\u001b[0m\u001b[0mas_list\u001b[0m\u001b[0;34m(\u001b[0m\u001b[0;34m)\u001b[0m \u001b[0;34m==\u001b[0m \u001b[0;34m[\u001b[0m\u001b[0mtest_rnn_layer_size\u001b[0m\u001b[0;34m,\u001b[0m \u001b[0;36m2\u001b[0m\u001b[0;34m,\u001b[0m \u001b[0;32mNone\u001b[0m\u001b[0;34m,\u001b[0m \u001b[0mtest_rnn_size\u001b[0m\u001b[0;34m]\u001b[0m\u001b[0;34m,\u001b[0m\u001b[0;31m \u001b[0m\u001b[0;31m\\\u001b[0m\u001b[0;34m\u001b[0m\u001b[0m\n\u001b[0;32m--> 267\u001b[0;31m             \u001b[0;34m'Final state wrong shape.  Found shape {}'\u001b[0m\u001b[0;34m.\u001b[0m\u001b[0mformat\u001b[0m\u001b[0;34m(\u001b[0m\u001b[0mfinal_state\u001b[0m\u001b[0;34m.\u001b[0m\u001b[0mget_shape\u001b[0m\u001b[0;34m(\u001b[0m\u001b[0;34m)\u001b[0m\u001b[0;34m)\u001b[0m\u001b[0;34m\u001b[0m\u001b[0m\n\u001b[0m\u001b[1;32m    268\u001b[0m \u001b[0;34m\u001b[0m\u001b[0m\n\u001b[1;32m    269\u001b[0m     \u001b[0m_print_success_message\u001b[0m\u001b[0;34m(\u001b[0m\u001b[0;34m)\u001b[0m\u001b[0;34m\u001b[0m\u001b[0m\n",
      "\u001b[0;31mAssertionError\u001b[0m: Final state wrong shape.  Found shape (2, 2, 128, 256)"
     ]
    }
   ],
   "source": [
    "def build_nn(cell, rnn_size, input_data, vocab_size, embed_dim):\n",
    "    \"\"\"\n",
    "    Build part of the neural network\n",
    "    :param cell: RNN cell\n",
    "    :param rnn_size: Size of rnns\n",
    "    :param input_data: Input data\n",
    "    :param vocab_size: Vocabulary size\n",
    "    :param embed_dim: Number of embedding dimensions\n",
    "    :return: Tuple (Logits, FinalState)\n",
    "    \"\"\"\n",
    "    # TODO: Implement Function\n",
    "    embed = get_embed(input_data, vocab_size, embed_dim)\n",
    "    Outputs, Final_state = build_rnn(cell, embed)\n",
    "    Logits = tf.contrib.layers.fully_connected(Outputs, vocab_size, activation_fn = None)\n",
    "    return (Logits, Final_state)\n",
    "\n",
    "\n",
    "\"\"\"\n",
    "DON'T MODIFY ANYTHING IN THIS CELL THAT IS BELOW THIS LINE\n",
    "\"\"\"\n",
    "tests.test_build_nn(build_nn)"
   ]
  },
  {
   "cell_type": "markdown",
   "metadata": {},
   "source": [
    "### Batches\n",
    "Implement `get_batches` to create batches of input and targets using `int_text`.  The batches should be a Numpy array with the shape `(number of batches, 2, batch size, sequence length)`. Each batch contains two elements:\n",
    "- The first element is a single batch of **input** with the shape `[batch size, sequence length]`\n",
    "- The second element is a single batch of **targets** with the shape `[batch size, sequence length]`\n",
    "\n",
    "If you can't fill the last batch with enough data, drop the last batch.\n",
    "\n",
    "For exmple, `get_batches([1, 2, 3, 4, 5, 6, 7, 8, 9, 10, 11, 12, 13, 14, 15, 16, 17, 18, 19, 20], 3, 2)` would return a Numpy array of the following:\n",
    "```\n",
    "[\n",
    "  # First Batch\n",
    "  [\n",
    "    # Batch of Input\n",
    "    [[ 1  2], [ 7  8], [13 14]]\n",
    "    # Batch of targets\n",
    "    [[ 2  3], [ 8  9], [14 15]]\n",
    "  ]\n",
    "\n",
    "  # Second Batch\n",
    "  [\n",
    "    # Batch of Input\n",
    "    [[ 3  4], [ 9 10], [15 16]]\n",
    "    # Batch of targets\n",
    "    [[ 4  5], [10 11], [16 17]]\n",
    "  ]\n",
    "\n",
    "  # Third Batch\n",
    "  [\n",
    "    # Batch of Input\n",
    "    [[ 5  6], [11 12], [17 18]]\n",
    "    # Batch of targets\n",
    "    [[ 6  7], [12 13], [18  1]]\n",
    "  ]\n",
    "]\n",
    "```\n",
    "\n",
    "Notice that the last target value in the last batch is the first input value of the first batch. In this case, `1`. This is a common technique used when creating sequence batches, although it is rather unintuitive."
   ]
  },
  {
   "cell_type": "code",
   "execution_count": 126,
   "metadata": {},
   "outputs": [
    {
     "name": "stdout",
     "output_type": "stream",
     "text": [
      "Tests Passed\n"
     ]
    }
   ],
   "source": [
    "def get_batches(int_text, batch_size, seq_length):\n",
    "    \"\"\"\n",
    "    Return batches of input and target\n",
    "    :param int_text: Text with the words replaced by their ids\n",
    "    :param batch_size: The size of batch\n",
    "    :param seq_length: The length of sequence\n",
    "    :return: Batches as a Numpy array\n",
    "    \"\"\"\n",
    "    # TODO: Implement Function\n",
    "    # Get the number of characters per batch and number of batches we can make\n",
    "    characters_per_batch = batch_size * seq_length\n",
    "    n_batches = len(int_text)//characters_per_batch\n",
    "    \n",
    "    # Keep only enough characters to make full batches\n",
    "    int_text = int_text[:n_batches * characters_per_batch]\n",
    "    int_text_y = int_text[1:] + int_text[:1]\n",
    "\n",
    "    # Reshape into batch_size rows\n",
    "    int_text = np.array(int_text).reshape((batch_size, -1))\n",
    "    int_text_y = np.array(int_text_y).reshape((batch_size, -1))\n",
    "\n",
    "    Batches = []\n",
    "    for n in range(0, int_text.shape[1], seq_length):\n",
    "        x = int_text[:, n:n+seq_length]\n",
    "        y = int_text_y[:, n:n+seq_length]\n",
    "        Batches.append([x,y])\n",
    "    \n",
    "    return np.array(Batches)\n",
    "\n",
    "\n",
    "\"\"\"\n",
    "DON'T MODIFY ANYTHING IN THIS CELL THAT IS BELOW THIS LINE\n",
    "\"\"\"\n",
    "tests.test_get_batches(get_batches)"
   ]
  },
  {
   "cell_type": "markdown",
   "metadata": {},
   "source": [
    "## Neural Network Training\n",
    "### Hyperparameters\n",
    "Tune the following parameters:\n",
    "\n",
    "- Set `num_epochs` to the number of epochs.\n",
    "- Set `batch_size` to the batch size.\n",
    "- Set `rnn_size` to the size of the RNNs.\n",
    "- Set `embed_dim` to the size of the embedding.\n",
    "- Set `seq_length` to the length of sequence.\n",
    "- Set `learning_rate` to the learning rate.\n",
    "- Set `show_every_n_batches` to the number of batches the neural network should print progress."
   ]
  },
  {
   "cell_type": "code",
   "execution_count": 127,
   "metadata": {
    "collapsed": true
   },
   "outputs": [],
   "source": [
    "# Number of Epochs\n",
    "num_epochs = 100\n",
    "# Batch Size\n",
    "batch_size = 32\n",
    "# RNN Size\n",
    "rnn_size = 256\n",
    "# Embedding Dimension Size\n",
    "embed_dim = 256\n",
    "# Sequence Length\n",
    "seq_length = 100\n",
    "# Learning Rate\n",
    "learning_rate = 0.02\n",
    "# Show stats for every n number of batches\n",
    "show_every_n_batches = 10\n",
    "\n",
    "\"\"\"\n",
    "DON'T MODIFY ANYTHING IN THIS CELL THAT IS BELOW THIS LINE\n",
    "\"\"\"\n",
    "save_dir = './save'"
   ]
  },
  {
   "cell_type": "markdown",
   "metadata": {},
   "source": [
    "### Build the Graph\n",
    "Build the graph using the neural network you implemented."
   ]
  },
  {
   "cell_type": "code",
   "execution_count": 128,
   "metadata": {
    "collapsed": true
   },
   "outputs": [],
   "source": [
    "\"\"\"\n",
    "DON'T MODIFY ANYTHING IN THIS CELL\n",
    "\"\"\"\n",
    "from tensorflow.contrib import seq2seq\n",
    "\n",
    "train_graph = tf.Graph()\n",
    "with train_graph.as_default():\n",
    "    vocab_size = len(int_to_vocab)\n",
    "    input_text, targets, lr = get_inputs()\n",
    "    input_data_shape = tf.shape(input_text)\n",
    "    cell, initial_state = get_init_cell(input_data_shape[0], rnn_size)\n",
    "    logits, final_state = build_nn(cell, rnn_size, input_text, vocab_size, embed_dim)\n",
    "\n",
    "    # Probabilities for generating words\n",
    "    probs = tf.nn.softmax(logits, name='probs')\n",
    "\n",
    "    # Loss function\n",
    "    cost = seq2seq.sequence_loss(\n",
    "        logits,\n",
    "        targets,\n",
    "        tf.ones([input_data_shape[0], input_data_shape[1]]))\n",
    "\n",
    "    # Optimizer\n",
    "    optimizer = tf.train.AdamOptimizer(lr)\n",
    "\n",
    "    # Gradient Clipping\n",
    "    gradients = optimizer.compute_gradients(cost)\n",
    "    capped_gradients = [(tf.clip_by_value(grad, -1., 1.), var) for grad, var in gradients if grad is not None]\n",
    "    train_op = optimizer.apply_gradients(capped_gradients)"
   ]
  },
  {
   "cell_type": "markdown",
   "metadata": {},
   "source": [
    "## Train\n",
    "Train the neural network on the preprocessed data.  If you have a hard time getting a good loss, check the [forums](https://discussions.udacity.com/) to see if anyone is having the same problem."
   ]
  },
  {
   "cell_type": "code",
   "execution_count": 129,
   "metadata": {},
   "outputs": [
    {
     "name": "stdout",
     "output_type": "stream",
     "text": [
      "Epoch   0 Batch    0/21   train_loss = 8.822\n",
      "Epoch   0 Batch   10/21   train_loss = 7.096\n",
      "Epoch   0 Batch   20/21   train_loss = 7.258\n",
      "Epoch   1 Batch    9/21   train_loss = 6.390\n",
      "Epoch   1 Batch   19/21   train_loss = 6.533\n",
      "Epoch   2 Batch    8/21   train_loss = 6.472\n",
      "Epoch   2 Batch   18/21   train_loss = 6.566\n",
      "Epoch   3 Batch    7/21   train_loss = 6.585\n",
      "Epoch   3 Batch   17/21   train_loss = 6.503\n",
      "Epoch   4 Batch    6/21   train_loss = 6.487\n",
      "Epoch   4 Batch   16/21   train_loss = 6.685\n",
      "Epoch   5 Batch    5/21   train_loss = 6.538\n",
      "Epoch   5 Batch   15/21   train_loss = 6.555\n",
      "Epoch   6 Batch    4/21   train_loss = 6.499\n",
      "Epoch   6 Batch   14/21   train_loss = 6.590\n",
      "Epoch   7 Batch    3/21   train_loss = 6.549\n",
      "Epoch   7 Batch   13/21   train_loss = 6.716\n",
      "Epoch   8 Batch    2/21   train_loss = 6.555\n",
      "Epoch   8 Batch   12/21   train_loss = 6.438\n",
      "Epoch   9 Batch    1/21   train_loss = 6.582\n",
      "Epoch   9 Batch   11/21   train_loss = 6.457\n",
      "Epoch  10 Batch    0/21   train_loss = 6.564\n",
      "Epoch  10 Batch   10/21   train_loss = 6.490\n",
      "Epoch  10 Batch   20/21   train_loss = 6.579\n",
      "Epoch  11 Batch    9/21   train_loss = 6.437\n",
      "Epoch  11 Batch   19/21   train_loss = 6.351\n",
      "Epoch  12 Batch    8/21   train_loss = 6.020\n",
      "Epoch  12 Batch   18/21   train_loss = 5.661\n",
      "Epoch  13 Batch    7/21   train_loss = 5.514\n",
      "Epoch  13 Batch   17/21   train_loss = 5.330\n",
      "Epoch  14 Batch    6/21   train_loss = 5.239\n",
      "Epoch  14 Batch   16/21   train_loss = 5.319\n",
      "Epoch  15 Batch    5/21   train_loss = 5.153\n",
      "Epoch  15 Batch   15/21   train_loss = 5.174\n",
      "Epoch  16 Batch    4/21   train_loss = 4.983\n",
      "Epoch  16 Batch   14/21   train_loss = 4.942\n",
      "Epoch  17 Batch    3/21   train_loss = 4.942\n",
      "Epoch  17 Batch   13/21   train_loss = 5.057\n",
      "Epoch  18 Batch    2/21   train_loss = 4.854\n",
      "Epoch  18 Batch   12/21   train_loss = 4.778\n",
      "Epoch  19 Batch    1/21   train_loss = 4.867\n",
      "Epoch  19 Batch   11/21   train_loss = 4.715\n",
      "Epoch  20 Batch    0/21   train_loss = 4.828\n",
      "Epoch  20 Batch   10/21   train_loss = 4.728\n",
      "Epoch  20 Batch   20/21   train_loss = 4.785\n",
      "Epoch  21 Batch    9/21   train_loss = 4.661\n",
      "Epoch  21 Batch   19/21   train_loss = 4.707\n",
      "Epoch  22 Batch    8/21   train_loss = 4.600\n",
      "Epoch  22 Batch   18/21   train_loss = 4.590\n",
      "Epoch  23 Batch    7/21   train_loss = 4.619\n",
      "Epoch  23 Batch   17/21   train_loss = 4.506\n",
      "Epoch  24 Batch    6/21   train_loss = 4.490\n",
      "Epoch  24 Batch   16/21   train_loss = 4.602\n",
      "Epoch  25 Batch    5/21   train_loss = 4.510\n",
      "Epoch  25 Batch   15/21   train_loss = 4.498\n",
      "Epoch  26 Batch    4/21   train_loss = 4.412\n",
      "Epoch  26 Batch   14/21   train_loss = 4.339\n",
      "Epoch  27 Batch    3/21   train_loss = 4.413\n",
      "Epoch  27 Batch   13/21   train_loss = 4.485\n",
      "Epoch  28 Batch    2/21   train_loss = 4.342\n",
      "Epoch  28 Batch   12/21   train_loss = 4.300\n",
      "Epoch  29 Batch    1/21   train_loss = 4.380\n",
      "Epoch  29 Batch   11/21   train_loss = 4.258\n",
      "Epoch  30 Batch    0/21   train_loss = 4.394\n",
      "Epoch  30 Batch   10/21   train_loss = 4.279\n",
      "Epoch  30 Batch   20/21   train_loss = 4.325\n",
      "Epoch  31 Batch    9/21   train_loss = 4.254\n",
      "Epoch  31 Batch   19/21   train_loss = 4.316\n",
      "Epoch  32 Batch    8/21   train_loss = 4.242\n",
      "Epoch  32 Batch   18/21   train_loss = 4.221\n",
      "Epoch  33 Batch    7/21   train_loss = 4.187\n",
      "Epoch  33 Batch   17/21   train_loss = 4.220\n",
      "Epoch  34 Batch    6/21   train_loss = 4.142\n",
      "Epoch  34 Batch   16/21   train_loss = 4.242\n",
      "Epoch  35 Batch    5/21   train_loss = 4.141\n",
      "Epoch  35 Batch   15/21   train_loss = 4.141\n",
      "Epoch  36 Batch    4/21   train_loss = 4.103\n",
      "Epoch  36 Batch   14/21   train_loss = 4.025\n",
      "Epoch  37 Batch    3/21   train_loss = 4.141\n",
      "Epoch  37 Batch   13/21   train_loss = 4.147\n",
      "Epoch  38 Batch    2/21   train_loss = 4.029\n",
      "Epoch  38 Batch   12/21   train_loss = 4.026\n",
      "Epoch  39 Batch    1/21   train_loss = 4.041\n",
      "Epoch  39 Batch   11/21   train_loss = 4.004\n",
      "Epoch  40 Batch    0/21   train_loss = 4.102\n",
      "Epoch  40 Batch   10/21   train_loss = 4.036\n",
      "Epoch  40 Batch   20/21   train_loss = 4.034\n",
      "Epoch  41 Batch    9/21   train_loss = 3.989\n",
      "Epoch  41 Batch   19/21   train_loss = 4.023\n",
      "Epoch  42 Batch    8/21   train_loss = 3.998\n",
      "Epoch  42 Batch   18/21   train_loss = 3.961\n",
      "Epoch  43 Batch    7/21   train_loss = 3.965\n",
      "Epoch  43 Batch   17/21   train_loss = 3.975\n",
      "Epoch  44 Batch    6/21   train_loss = 3.904\n",
      "Epoch  44 Batch   16/21   train_loss = 3.995\n",
      "Epoch  45 Batch    5/21   train_loss = 3.917\n",
      "Epoch  45 Batch   15/21   train_loss = 3.910\n",
      "Epoch  46 Batch    4/21   train_loss = 3.832\n",
      "Epoch  46 Batch   14/21   train_loss = 3.747\n",
      "Epoch  47 Batch    3/21   train_loss = 3.877\n",
      "Epoch  47 Batch   13/21   train_loss = 3.879\n",
      "Epoch  48 Batch    2/21   train_loss = 3.795\n",
      "Epoch  48 Batch   12/21   train_loss = 3.807\n",
      "Epoch  49 Batch    1/21   train_loss = 3.799\n",
      "Epoch  49 Batch   11/21   train_loss = 3.769\n",
      "Epoch  50 Batch    0/21   train_loss = 3.854\n",
      "Epoch  50 Batch   10/21   train_loss = 3.820\n",
      "Epoch  50 Batch   20/21   train_loss = 3.768\n",
      "Epoch  51 Batch    9/21   train_loss = 3.745\n",
      "Epoch  51 Batch   19/21   train_loss = 3.785\n",
      "Epoch  52 Batch    8/21   train_loss = 3.781\n",
      "Epoch  52 Batch   18/21   train_loss = 3.720\n",
      "Epoch  53 Batch    7/21   train_loss = 3.719\n",
      "Epoch  53 Batch   17/21   train_loss = 3.752\n",
      "Epoch  54 Batch    6/21   train_loss = 3.716\n",
      "Epoch  54 Batch   16/21   train_loss = 3.767\n",
      "Epoch  55 Batch    5/21   train_loss = 3.705\n",
      "Epoch  55 Batch   15/21   train_loss = 3.675\n",
      "Epoch  56 Batch    4/21   train_loss = 3.613\n",
      "Epoch  56 Batch   14/21   train_loss = 3.526\n",
      "Epoch  57 Batch    3/21   train_loss = 3.677\n",
      "Epoch  57 Batch   13/21   train_loss = 3.652\n",
      "Epoch  58 Batch    2/21   train_loss = 3.552\n",
      "Epoch  58 Batch   12/21   train_loss = 3.586\n",
      "Epoch  59 Batch    1/21   train_loss = 3.606\n",
      "Epoch  59 Batch   11/21   train_loss = 3.614\n",
      "Epoch  60 Batch    0/21   train_loss = 3.659\n",
      "Epoch  60 Batch   10/21   train_loss = 3.637\n",
      "Epoch  60 Batch   20/21   train_loss = 3.609\n",
      "Epoch  61 Batch    9/21   train_loss = 3.616\n",
      "Epoch  61 Batch   19/21   train_loss = 3.569\n",
      "Epoch  62 Batch    8/21   train_loss = 3.567\n",
      "Epoch  62 Batch   18/21   train_loss = 3.589\n",
      "Epoch  63 Batch    7/21   train_loss = 3.574\n",
      "Epoch  63 Batch   17/21   train_loss = 3.603\n",
      "Epoch  64 Batch    6/21   train_loss = 3.524\n",
      "Epoch  64 Batch   16/21   train_loss = 3.657\n",
      "Epoch  65 Batch    5/21   train_loss = 3.563\n",
      "Epoch  65 Batch   15/21   train_loss = 3.545\n",
      "Epoch  66 Batch    4/21   train_loss = 3.459\n",
      "Epoch  66 Batch   14/21   train_loss = 3.400\n",
      "Epoch  67 Batch    3/21   train_loss = 3.525\n",
      "Epoch  67 Batch   13/21   train_loss = 3.484\n",
      "Epoch  68 Batch    2/21   train_loss = 3.401\n",
      "Epoch  68 Batch   12/21   train_loss = 3.478\n",
      "Epoch  69 Batch    1/21   train_loss = 3.520\n",
      "Epoch  69 Batch   11/21   train_loss = 3.464\n",
      "Epoch  70 Batch    0/21   train_loss = 3.543\n",
      "Epoch  70 Batch   10/21   train_loss = 3.491\n",
      "Epoch  70 Batch   20/21   train_loss = 3.436\n",
      "Epoch  71 Batch    9/21   train_loss = 3.482\n",
      "Epoch  71 Batch   19/21   train_loss = 3.454\n",
      "Epoch  72 Batch    8/21   train_loss = 3.500\n",
      "Epoch  72 Batch   18/21   train_loss = 3.428\n",
      "Epoch  73 Batch    7/21   train_loss = 3.434\n",
      "Epoch  73 Batch   17/21   train_loss = 3.473\n",
      "Epoch  74 Batch    6/21   train_loss = 3.471\n",
      "Epoch  74 Batch   16/21   train_loss = 3.496\n",
      "Epoch  75 Batch    5/21   train_loss = 3.469\n",
      "Epoch  75 Batch   15/21   train_loss = 3.449\n",
      "Epoch  76 Batch    4/21   train_loss = 3.387\n",
      "Epoch  76 Batch   14/21   train_loss = 3.271\n",
      "Epoch  77 Batch    3/21   train_loss = 3.390\n",
      "Epoch  77 Batch   13/21   train_loss = 3.352\n",
      "Epoch  78 Batch    2/21   train_loss = 3.269\n",
      "Epoch  78 Batch   12/21   train_loss = 3.373\n",
      "Epoch  79 Batch    1/21   train_loss = 3.352\n",
      "Epoch  79 Batch   11/21   train_loss = 3.362\n",
      "Epoch  80 Batch    0/21   train_loss = 3.402\n",
      "Epoch  80 Batch   10/21   train_loss = 3.348\n",
      "Epoch  80 Batch   20/21   train_loss = 3.314\n",
      "Epoch  81 Batch    9/21   train_loss = 3.396\n",
      "Epoch  81 Batch   19/21   train_loss = 3.313\n",
      "Epoch  82 Batch    8/21   train_loss = 3.329\n",
      "Epoch  82 Batch   18/21   train_loss = 3.301\n",
      "Epoch  83 Batch    7/21   train_loss = 3.292\n",
      "Epoch  83 Batch   17/21   train_loss = 3.348\n",
      "Epoch  84 Batch    6/21   train_loss = 3.302\n",
      "Epoch  84 Batch   16/21   train_loss = 3.362\n",
      "Epoch  85 Batch    5/21   train_loss = 3.307\n",
      "Epoch  85 Batch   15/21   train_loss = 3.309\n",
      "Epoch  86 Batch    4/21   train_loss = 3.296\n",
      "Epoch  86 Batch   14/21   train_loss = 3.171\n"
     ]
    },
    {
     "name": "stdout",
     "output_type": "stream",
     "text": [
      "Epoch  87 Batch    3/21   train_loss = 3.294\n",
      "Epoch  87 Batch   13/21   train_loss = 3.224\n",
      "Epoch  88 Batch    2/21   train_loss = 3.194\n",
      "Epoch  88 Batch   12/21   train_loss = 3.303\n",
      "Epoch  89 Batch    1/21   train_loss = 3.200\n",
      "Epoch  89 Batch   11/21   train_loss = 3.256\n",
      "Epoch  90 Batch    0/21   train_loss = 3.296\n",
      "Epoch  90 Batch   10/21   train_loss = 3.264\n",
      "Epoch  90 Batch   20/21   train_loss = 3.193\n",
      "Epoch  91 Batch    9/21   train_loss = 3.184\n",
      "Epoch  91 Batch   19/21   train_loss = 3.227\n",
      "Epoch  92 Batch    8/21   train_loss = 3.270\n",
      "Epoch  92 Batch   18/21   train_loss = 3.206\n",
      "Epoch  93 Batch    7/21   train_loss = 3.193\n",
      "Epoch  93 Batch   17/21   train_loss = 3.264\n",
      "Epoch  94 Batch    6/21   train_loss = 3.194\n",
      "Epoch  94 Batch   16/21   train_loss = 3.240\n",
      "Epoch  95 Batch    5/21   train_loss = 3.195\n",
      "Epoch  95 Batch   15/21   train_loss = 3.205\n",
      "Epoch  96 Batch    4/21   train_loss = 3.174\n",
      "Epoch  96 Batch   14/21   train_loss = 3.069\n",
      "Epoch  97 Batch    3/21   train_loss = 3.207\n",
      "Epoch  97 Batch   13/21   train_loss = 3.074\n",
      "Epoch  98 Batch    2/21   train_loss = 3.103\n",
      "Epoch  98 Batch   12/21   train_loss = 3.171\n",
      "Epoch  99 Batch    1/21   train_loss = 3.146\n",
      "Epoch  99 Batch   11/21   train_loss = 3.190\n",
      "Model Trained and Saved\n"
     ]
    }
   ],
   "source": [
    "\"\"\"\n",
    "DON'T MODIFY ANYTHING IN THIS CELL\n",
    "\"\"\"\n",
    "batches = get_batches(int_text, batch_size, seq_length)\n",
    "\n",
    "with tf.Session(graph=train_graph) as sess:\n",
    "    sess.run(tf.global_variables_initializer())\n",
    "\n",
    "    for epoch_i in range(num_epochs):\n",
    "        state = sess.run(initial_state, {input_text: batches[0][0]})\n",
    "\n",
    "        for batch_i, (x, y) in enumerate(batches):\n",
    "            feed = {\n",
    "                input_text: x,\n",
    "                targets: y,\n",
    "                initial_state: state,\n",
    "                lr: learning_rate}\n",
    "            train_loss, state, _ = sess.run([cost, final_state, train_op], feed)\n",
    "\n",
    "            # Show every <show_every_n_batches> batches\n",
    "            if (epoch_i * len(batches) + batch_i) % show_every_n_batches == 0:\n",
    "                print('Epoch {:>3} Batch {:>4}/{}   train_loss = {:.3f}'.format(\n",
    "                    epoch_i,\n",
    "                    batch_i,\n",
    "                    len(batches),\n",
    "                    train_loss))\n",
    "\n",
    "    # Save Model\n",
    "    saver = tf.train.Saver()\n",
    "    saver.save(sess, save_dir)\n",
    "    print('Model Trained and Saved')"
   ]
  },
  {
   "cell_type": "markdown",
   "metadata": {},
   "source": [
    "## Save Parameters\n",
    "Save `seq_length` and `save_dir` for generating a new TV script."
   ]
  },
  {
   "cell_type": "code",
   "execution_count": 130,
   "metadata": {
    "collapsed": true
   },
   "outputs": [],
   "source": [
    "\"\"\"\n",
    "DON'T MODIFY ANYTHING IN THIS CELL\n",
    "\"\"\"\n",
    "# Save parameters for checkpoint\n",
    "helper.save_params((seq_length, save_dir))"
   ]
  },
  {
   "cell_type": "markdown",
   "metadata": {},
   "source": [
    "# Checkpoint"
   ]
  },
  {
   "cell_type": "code",
   "execution_count": 131,
   "metadata": {
    "collapsed": true
   },
   "outputs": [],
   "source": [
    "\"\"\"\n",
    "DON'T MODIFY ANYTHING IN THIS CELL\n",
    "\"\"\"\n",
    "import tensorflow as tf\n",
    "import numpy as np\n",
    "import helper\n",
    "import problem_unittests as tests\n",
    "\n",
    "_, vocab_to_int, int_to_vocab, token_dict = helper.load_preprocess()\n",
    "seq_length, load_dir = helper.load_params()"
   ]
  },
  {
   "cell_type": "markdown",
   "metadata": {},
   "source": [
    "## Implement Generate Functions\n",
    "### Get Tensors\n",
    "Get tensors from `loaded_graph` using the function [`get_tensor_by_name()`](https://www.tensorflow.org/api_docs/python/tf/Graph#get_tensor_by_name).  Get the tensors using the following names:\n",
    "- \"input:0\"\n",
    "- \"initial_state:0\"\n",
    "- \"final_state:0\"\n",
    "- \"probs:0\"\n",
    "\n",
    "Return the tensors in the following tuple `(InputTensor, InitialStateTensor, FinalStateTensor, ProbsTensor)` "
   ]
  },
  {
   "cell_type": "code",
   "execution_count": 132,
   "metadata": {},
   "outputs": [
    {
     "name": "stdout",
     "output_type": "stream",
     "text": [
      "Tests Passed\n"
     ]
    }
   ],
   "source": [
    "def get_tensors(loaded_graph):\n",
    "    \"\"\"\n",
    "    Get input, initial state, final state, and probabilities tensor from <loaded_graph>\n",
    "    :param loaded_graph: TensorFlow graph loaded from file\n",
    "    :return: Tuple (InputTensor, InitialStateTensor, FinalStateTensor, ProbsTensor)\n",
    "    \"\"\"\n",
    "    # TODO: Implement Function\n",
    "    InputTensor = loaded_graph.get_tensor_by_name(\"input:0\")\n",
    "    InitialStateTensor = loaded_graph.get_tensor_by_name(name = \"initial_state:0\")\n",
    "    FinalStateTensor = loaded_graph.get_tensor_by_name(name = \"final_state:0\")\n",
    "    ProbsTensor = loaded_graph.get_tensor_by_name(name = \"probs:0\")\n",
    "    \n",
    "    return (InputTensor, InitialStateTensor, FinalStateTensor, ProbsTensor)\n",
    "\n",
    "\n",
    "\"\"\"\n",
    "DON'T MODIFY ANYTHING IN THIS CELL THAT IS BELOW THIS LINE\n",
    "\"\"\"\n",
    "tests.test_get_tensors(get_tensors)"
   ]
  },
  {
   "cell_type": "markdown",
   "metadata": {},
   "source": [
    "### Choose Word\n",
    "Implement the `pick_word()` function to select the next word using `probabilities`."
   ]
  },
  {
   "cell_type": "code",
   "execution_count": 133,
   "metadata": {},
   "outputs": [
    {
     "name": "stdout",
     "output_type": "stream",
     "text": [
      "Tests Passed\n"
     ]
    }
   ],
   "source": [
    "def pick_word(probabilities, int_to_vocab):\n",
    "    \"\"\"\n",
    "    Pick the next word in the generated text\n",
    "    :param probabilities: Probabilites of the next word\n",
    "    :param int_to_vocab: Dictionary of word ids as the keys and words as the values\n",
    "    :return: String of the predicted word\n",
    "    \"\"\"\n",
    "    # TODO: Implement Function\n",
    "    return int_to_vocab[np.argmax(probabilities)]\n",
    "\n",
    "\n",
    "\"\"\"\n",
    "DON'T MODIFY ANYTHING IN THIS CELL THAT IS BELOW THIS LINE\n",
    "\"\"\"\n",
    "tests.test_pick_word(pick_word)"
   ]
  },
  {
   "cell_type": "markdown",
   "metadata": {},
   "source": [
    "## Generate TV Script\n",
    "This will generate the TV script for you.  Set `gen_length` to the length of TV script you want to generate."
   ]
  },
  {
   "cell_type": "code",
   "execution_count": 134,
   "metadata": {},
   "outputs": [
    {
     "name": "stdout",
     "output_type": "stream",
     "text": [
      "INFO:tensorflow:Restoring parameters from ./save\n",
      "moe_szyslak:(entering drinking) everything...(looking)\n",
      "homer_simpson:(sings) oh, i don't know, i don't know, moe.\n",
      "moe_szyslak:(reluctant) oh, i don't know, moe. i got a capuchin life.\n",
      "moe_szyslak:(to homer) i don't know...\n",
      "moe_szyslak:(to self) oh, i don't know why i got a energy of catching to be a children's wants.\n",
      "moe_szyslak:(to homer) i don't have to brag to be my highest young.\n",
      "homer_simpson:(to be edna-lover-one-seventy-two)\" african princess,\" kid.\"\n",
      "homer_simpson:(singing) na na na na na was the tanked-up class, i regret you.\n",
      "homer_simpson:(unfamiliar) gin times.\n",
      "homer_simpson:(to ralph) linda of the moon-bounce.\n",
      "homer_simpson:(to moe) i don't be honest.\n",
      "moe_szyslak:(to harv) you were patriotic, i don't know why i can't believe you was a little way to bluff the process.\n",
      "homer_simpson:(stunned) oh, moe,\n"
     ]
    }
   ],
   "source": [
    "gen_length = 200\n",
    "# homer_simpson, moe_szyslak, or Barney_Gumble\n",
    "prime_word = 'moe_szyslak'\n",
    "\n",
    "\"\"\"\n",
    "DON'T MODIFY ANYTHING IN THIS CELL THAT IS BELOW THIS LINE\n",
    "\"\"\"\n",
    "loaded_graph = tf.Graph()\n",
    "with tf.Session(graph=loaded_graph) as sess:\n",
    "    # Load saved model\n",
    "    loader = tf.train.import_meta_graph(load_dir + '.meta')\n",
    "    loader.restore(sess, load_dir)\n",
    "\n",
    "    # Get Tensors from loaded model\n",
    "    input_text, initial_state, final_state, probs = get_tensors(loaded_graph)\n",
    "\n",
    "    # Sentences generation setup\n",
    "    gen_sentences = [prime_word + ':']\n",
    "    prev_state = sess.run(initial_state, {input_text: np.array([[1]])})\n",
    "\n",
    "    # Generate sentences\n",
    "    for n in range(gen_length):\n",
    "        # Dynamic Input\n",
    "        dyn_input = [[vocab_to_int[word] for word in gen_sentences[-seq_length:]]]\n",
    "        dyn_seq_length = len(dyn_input[0])\n",
    "\n",
    "        # Get Prediction\n",
    "        probabilities, prev_state = sess.run(\n",
    "            [probs, final_state],\n",
    "            {input_text: dyn_input, initial_state: prev_state})\n",
    "        \n",
    "        #pred_word = pick_word(probabilities[dyn_seq_length-1], int_to_vocab)\n",
    "        pred_word = pick_word(probabilities[0][dyn_seq_length-1], int_to_vocab)\n",
    "        gen_sentences.append(pred_word)\n",
    "    \n",
    "    # Remove tokens\n",
    "    tv_script = ' '.join(gen_sentences)\n",
    "    for key, token in token_dict.items():\n",
    "        ending = ' ' if key in ['\\n', '(', '\"'] else ''\n",
    "        tv_script = tv_script.replace(' ' + token.lower(), key)\n",
    "    tv_script = tv_script.replace('\\n ', '\\n')\n",
    "    tv_script = tv_script.replace('( ', '(')\n",
    "        \n",
    "    print(tv_script)"
   ]
  },
  {
   "cell_type": "markdown",
   "metadata": {},
   "source": [
    "# The TV Script is Nonsensical\n",
    "It's ok if the TV script doesn't make any sense.  We trained on less than a megabyte of text.  In order to get good results, you'll have to use a smaller vocabulary or get more data.  Luckly there's more data!  As we mentioned in the begging of this project, this is a subset of [another dataset](https://www.kaggle.com/wcukierski/the-simpsons-by-the-data).  We didn't have you train on all the data, because that would take too long.  However, you are free to train your neural network on all the data.  After you complete the project, of course.\n",
    "# Submitting This Project\n",
    "When submitting this project, make sure to run all the cells before saving the notebook. Save the notebook file as \"dlnd_tv_script_generation.ipynb\" and save it as a HTML file under \"File\" -> \"Download as\". Include the \"helper.py\" and \"problem_unittests.py\" files in your submission."
   ]
  },
  {
   "cell_type": "code",
   "execution_count": null,
   "metadata": {
    "collapsed": true
   },
   "outputs": [],
   "source": []
  }
 ],
 "metadata": {
  "kernelspec": {
   "display_name": "Python 3",
   "language": "python",
   "name": "python3"
  },
  "language_info": {
   "codemirror_mode": {
    "name": "ipython",
    "version": 3
   },
   "file_extension": ".py",
   "mimetype": "text/x-python",
   "name": "python",
   "nbconvert_exporter": "python",
   "pygments_lexer": "ipython3",
   "version": "3.5.2"
  },
  "widgets": {
   "state": {},
   "version": "1.1.2"
  }
 },
 "nbformat": 4,
 "nbformat_minor": 1
}
