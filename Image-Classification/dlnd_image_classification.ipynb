{
 "cells": [
  {
   "cell_type": "markdown",
   "metadata": {
    "collapsed": true
   },
   "source": [
    "# Image Classification\n",
    "In this project, you'll classify images from the [CIFAR-10 dataset](https://www.cs.toronto.edu/~kriz/cifar.html).  The dataset consists of airplanes, dogs, cats, and other objects. You'll preprocess the images, then train a convolutional neural network on all the samples. The images need to be normalized and the labels need to be one-hot encoded.  You'll get to apply what you learned and build a convolutional, max pooling, dropout, and fully connected layers.  At the end, you'll get to see your neural network's predictions on the sample images.\n",
    "## Get the Data\n",
    "Run the following cell to download the [CIFAR-10 dataset for python](https://www.cs.toronto.edu/~kriz/cifar-10-python.tar.gz)."
   ]
  },
  {
   "cell_type": "code",
   "execution_count": 1,
   "metadata": {},
   "outputs": [
    {
     "name": "stderr",
     "output_type": "stream",
     "text": [
      "CIFAR-10 Dataset: 171MB [03:58, 714KB/s]                               \n"
     ]
    },
    {
     "name": "stdout",
     "output_type": "stream",
     "text": [
      "All files found!\n"
     ]
    }
   ],
   "source": [
    "\"\"\"\n",
    "DON'T MODIFY ANYTHING IN THIS CELL THAT IS BELOW THIS LINE\n",
    "\"\"\"\n",
    "from urllib.request import urlretrieve\n",
    "from os.path import isfile, isdir\n",
    "from tqdm import tqdm\n",
    "import problem_unittests as tests\n",
    "import tarfile\n",
    "\n",
    "cifar10_dataset_folder_path = 'cifar-10-batches-py'\n",
    "\n",
    "# Use Floyd's cifar-10 dataset if present\n",
    "floyd_cifar10_location = '/input/cifar-10/python.tar.gz'\n",
    "if isfile(floyd_cifar10_location):\n",
    "    tar_gz_path = floyd_cifar10_location\n",
    "else:\n",
    "    tar_gz_path = 'cifar-10-python.tar.gz'\n",
    "\n",
    "class DLProgress(tqdm):\n",
    "    last_block = 0\n",
    "\n",
    "    def hook(self, block_num=1, block_size=1, total_size=None):\n",
    "        self.total = total_size\n",
    "        self.update((block_num - self.last_block) * block_size)\n",
    "        self.last_block = block_num\n",
    "\n",
    "if not isfile(tar_gz_path):\n",
    "    with DLProgress(unit='B', unit_scale=True, miniters=1, desc='CIFAR-10 Dataset') as pbar:\n",
    "        urlretrieve(\n",
    "            'https://www.cs.toronto.edu/~kriz/cifar-10-python.tar.gz',\n",
    "            tar_gz_path,\n",
    "            pbar.hook)\n",
    "\n",
    "if not isdir(cifar10_dataset_folder_path):\n",
    "    with tarfile.open(tar_gz_path) as tar:\n",
    "        tar.extractall()\n",
    "        tar.close()\n",
    "\n",
    "\n",
    "tests.test_folder_path(cifar10_dataset_folder_path)"
   ]
  },
  {
   "cell_type": "markdown",
   "metadata": {},
   "source": [
    "## Explore the Data\n",
    "The dataset is broken into batches to prevent your machine from running out of memory.  The CIFAR-10 dataset consists of 5 batches, named `data_batch_1`, `data_batch_2`, etc.. Each batch contains the labels and images that are one of the following:\n",
    "* airplane\n",
    "* automobile\n",
    "* bird\n",
    "* cat\n",
    "* deer\n",
    "* dog\n",
    "* frog\n",
    "* horse\n",
    "* ship\n",
    "* truck\n",
    "\n",
    "Understanding a dataset is part of making predictions on the data.  Play around with the code cell below by changing the `batch_id` and `sample_id`. The `batch_id` is the id for a batch (1-5). The `sample_id` is the id for a image and label pair in the batch.\n",
    "\n",
    "Ask yourself \"What are all possible labels?\", \"What is the range of values for the image data?\", \"Are the labels in order or random?\".  Answers to questions like these will help you preprocess the data and end up with better predictions."
   ]
  },
  {
   "cell_type": "code",
   "execution_count": 153,
   "metadata": {
    "scrolled": true
   },
   "outputs": [
    {
     "name": "stdout",
     "output_type": "stream",
     "text": [
      "\n",
      "Stats of batch 1:\n",
      "Samples: 10000\n",
      "Label Counts: {0: 1005, 1: 974, 2: 1032, 3: 1016, 4: 999, 5: 937, 6: 1030, 7: 1001, 8: 1025, 9: 981}\n",
      "First 20 Labels: [6, 9, 9, 4, 1, 1, 2, 7, 8, 3, 4, 7, 7, 2, 9, 9, 9, 3, 2, 6]\n",
      "\n",
      "Example of Image 5:\n",
      "Image - Min Value: 0 Max Value: 252\n",
      "Image - Shape: (32, 32, 3)\n",
      "Label - Label Id: 1 Name: automobile\n"
     ]
    },
    {
     "data": {
      "image/png": "[encoded data removed]",
      "text/plain": [
       "<matplotlib.figure.Figure at 0x11bfeb550>"
      ]
     },
     "metadata": {
      "image/png": {
       "height": 250,
       "width": 253
      }
     },
     "output_type": "display_data"
    }
   ],
   "source": [
    "%matplotlib inline\n",
    "%config InlineBackend.figure_format = 'retina'\n",
    "\n",
    "import helper\n",
    "import numpy as np\n",
    "\n",
    "# Explore the dataset\n",
    "batch_id = 1\n",
    "sample_id = 5\n",
    "helper.display_stats(cifar10_dataset_folder_path, batch_id, sample_id)"
   ]
  },
  {
   "cell_type": "markdown",
   "metadata": {},
   "source": [
    "## Implement Preprocess Functions\n",
    "### Normalize\n",
    "In the cell below, implement the `normalize` function to take in image data, `x`, and return it as a normalized Numpy array. The values should be in the range of 0 to 1, inclusive.  The return object should be the same shape as `x`."
   ]
  },
  {
   "cell_type": "code",
   "execution_count": 154,
   "metadata": {},
   "outputs": [
    {
     "name": "stdout",
     "output_type": "stream",
     "text": [
      "Tests Passed\n"
     ]
    }
   ],
   "source": [
    "def normalize(x):\n",
    "    \"\"\"\n",
    "    Normalize a list of sample image data in the range of 0 to 1\n",
    "    : x: List of image data.  The image shape is (32, 32, 3)\n",
    "    : return: Numpy array of normalize data\n",
    "    \"\"\"\n",
    "    # TODO: Implement Function\n",
    "#    return x/255\n",
    "    return np.array((x - np.min(x)) / (np.max(x) - np.min(x)))\n",
    "\n",
    "\n",
    "\"\"\"\n",
    "DON'T MODIFY ANYTHING IN THIS CELL THAT IS BELOW THIS LINE\n",
    "\"\"\"\n",
    "tests.test_normalize(normalize)"
   ]
  },
  {
   "cell_type": "markdown",
   "metadata": {},
   "source": [
    "### One-hot encode\n",
    "Just like the previous code cell, you'll be implementing a function for preprocessing.  This time, you'll implement the `one_hot_encode` function. The input, `x`, are a list of labels.  Implement the function to return the list of labels as One-Hot encoded Numpy array.  The possible values for labels are 0 to 9. The one-hot encoding function should return the same encoding for each value between each call to `one_hot_encode`.  Make sure to save the map of encodings outside the function.\n",
    "\n",
    "Hint: Don't reinvent the wheel."
   ]
  },
  {
   "cell_type": "code",
   "execution_count": 155,
   "metadata": {},
   "outputs": [
    {
     "name": "stdout",
     "output_type": "stream",
     "text": [
      "Tests Passed\n"
     ]
    }
   ],
   "source": [
    "def one_hot_encode(x):\n",
    "    \"\"\"\n",
    "    One hot encode a list of sample labels. Return a one-hot encoded vector for each label.\n",
    "    : x: List of sample Labels\n",
    "    : return: Numpy array of one-hot encoded labels\n",
    "    \"\"\"\n",
    "    # TODO: Implement Function\n",
    "    \n",
    "    output = np.zeros((len(x), 10))\n",
    "    \n",
    "    for i in range(len(x)):\n",
    "        output[i][x[i]] = 1\n",
    "    \n",
    "    return output\n",
    "\n",
    "\n",
    "\"\"\"\n",
    "DON'T MODIFY ANYTHING IN THIS CELL THAT IS BELOW THIS LINE\n",
    "\"\"\"\n",
    "tests.test_one_hot_encode(one_hot_encode)"
   ]
  },
  {
   "cell_type": "code",
   "execution_count": 168,
   "metadata": {},
   "outputs": [
    {
     "data": {
      "text/plain": [
       "array([[ 0.,  1.,  0.,  0.,  0.,  0.,  0.,  0.,  0.,  0.],\n",
       "       [ 1.,  0.,  0.,  0.,  0.,  0.,  0.,  0.,  0.,  0.],\n",
       "       [ 0.,  0.,  0.,  1.,  0.,  0.,  0.,  0.,  0.,  0.]])"
      ]
     },
     "execution_count": 168,
     "metadata": {},
     "output_type": "execute_result"
    }
   ],
   "source": [
    "one_hot_encode([1,0,3])"
   ]
  },
  {
   "cell_type": "markdown",
   "metadata": {},
   "source": [
    "### Randomize Data\n",
    "As you saw from exploring the data above, the order of the samples are randomized.  It doesn't hurt to randomize it again, but you don't need to for this dataset."
   ]
  },
  {
   "cell_type": "code",
   "execution_count": 172,
   "metadata": {},
   "outputs": [
    {
     "ename": "IndexError",
     "evalue": "index 10 is out of bounds for axis 0 with size 10",
     "output_type": "error",
     "traceback": [
      "\u001b[0;31m---------------------------------------------------------------------------\u001b[0m",
      "\u001b[0;31mIndexError\u001b[0m                                Traceback (most recent call last)",
      "\u001b[0;32m<ipython-input-172-b0ed7adffc2a>\u001b[0m in \u001b[0;36m<module>\u001b[0;34m()\u001b[0m\n\u001b[0;32m----> 1\u001b[0;31m \u001b[0mnp\u001b[0m\u001b[0;34m.\u001b[0m\u001b[0meye\u001b[0m\u001b[0;34m(\u001b[0m\u001b[0;36m10\u001b[0m\u001b[0;34m)\u001b[0m\u001b[0;34m[\u001b[0m\u001b[0;34m[\u001b[0m\u001b[0;36m1\u001b[0m\u001b[0;34m,\u001b[0m\u001b[0;36m0\u001b[0m\u001b[0;34m,\u001b[0m\u001b[0;36m3\u001b[0m\u001b[0;34m,\u001b[0m\u001b[0;36m10\u001b[0m\u001b[0;34m]\u001b[0m\u001b[0;34m]\u001b[0m\u001b[0;34m\u001b[0m\u001b[0m\n\u001b[0m",
      "\u001b[0;31mIndexError\u001b[0m: index 10 is out of bounds for axis 0 with size 10"
     ]
    }
   ],
   "source": [
    "np.eye(10)[[1,0,3,10]] "
   ]
  },
  {
   "cell_type": "markdown",
   "metadata": {},
   "source": [
    "## Preprocess all the data and save it\n",
    "Running the code cell below will preprocess all the CIFAR-10 data and save it to file. The code below also uses 10% of the training data for validation."
   ]
  },
  {
   "cell_type": "code",
   "execution_count": 156,
   "metadata": {
    "collapsed": true
   },
   "outputs": [],
   "source": [
    "\"\"\"\n",
    "DON'T MODIFY ANYTHING IN THIS CELL\n",
    "\"\"\"\n",
    "# Preprocess Training, Validation, and Testing Data\n",
    "helper.preprocess_and_save_data(cifar10_dataset_folder_path, normalize, one_hot_encode)"
   ]
  },
  {
   "cell_type": "markdown",
   "metadata": {},
   "source": [
    "# Check Point\n",
    "This is your first checkpoint.  If you ever decide to come back to this notebook or have to restart the notebook, you can start from here.  The preprocessed data has been saved to disk."
   ]
  },
  {
   "cell_type": "code",
   "execution_count": 157,
   "metadata": {
    "collapsed": true
   },
   "outputs": [],
   "source": [
    "\"\"\"\n",
    "DON'T MODIFY ANYTHING IN THIS CELL\n",
    "\"\"\"\n",
    "import pickle\n",
    "import problem_unittests as tests\n",
    "import helper\n",
    "\n",
    "# Load the Preprocessed Validation data\n",
    "valid_features, valid_labels = pickle.load(open('preprocess_validation.p', mode='rb'))"
   ]
  },
  {
   "cell_type": "markdown",
   "metadata": {},
   "source": [
    "## Build the network\n",
    "For the neural network, you'll build each layer into a function.  Most of the code you've seen has been outside of functions. To test your code more thoroughly, we require that you put each layer in a function.  This allows us to give you better feedback and test for simple mistakes using our unittests before you submit your project.\n",
    "\n",
    ">**Note:** If you're finding it hard to dedicate enough time for this course each week, we've provided a small shortcut to this part of the project. In the next couple of problems, you'll have the option to use classes from the [TensorFlow Layers](https://www.tensorflow.org/api_docs/python/tf/layers) or [TensorFlow Layers (contrib)](https://www.tensorflow.org/api_guides/python/contrib.layers) packages to build each layer, except the layers you build in the \"Convolutional and Max Pooling Layer\" section.  TF Layers is similar to Keras's and TFLearn's abstraction to layers, so it's easy to pickup.\n",
    "\n",
    ">However, if you would like to get the most out of this course, try to solve all the problems _without_ using anything from the TF Layers packages. You **can** still use classes from other packages that happen to have the same name as ones you find in TF Layers! For example, instead of using the TF Layers version of the `conv2d` class, [tf.layers.conv2d](https://www.tensorflow.org/api_docs/python/tf/layers/conv2d), you would want to use the TF Neural Network version of `conv2d`, [tf.nn.conv2d](https://www.tensorflow.org/api_docs/python/tf/nn/conv2d). \n",
    "\n",
    "Let's begin!\n",
    "\n",
    "### Input\n",
    "The neural network needs to read the image data, one-hot encoded labels, and dropout keep probability. Implement the following functions\n",
    "* Implement `neural_net_image_input`\n",
    " * Return a [TF Placeholder](https://www.tensorflow.org/api_docs/python/tf/placeholder)\n",
    " * Set the shape using `image_shape` with batch size set to `None`.\n",
    " * Name the TensorFlow placeholder \"x\" using the TensorFlow `name` parameter in the [TF Placeholder](https://www.tensorflow.org/api_docs/python/tf/placeholder).\n",
    "* Implement `neural_net_label_input`\n",
    " * Return a [TF Placeholder](https://www.tensorflow.org/api_docs/python/tf/placeholder)\n",
    " * Set the shape using `n_classes` with batch size set to `None`.\n",
    " * Name the TensorFlow placeholder \"y\" using the TensorFlow `name` parameter in the [TF Placeholder](https://www.tensorflow.org/api_docs/python/tf/placeholder).\n",
    "* Implement `neural_net_keep_prob_input`\n",
    " * Return a [TF Placeholder](https://www.tensorflow.org/api_docs/python/tf/placeholder) for dropout keep probability.\n",
    " * Name the TensorFlow placeholder \"keep_prob\" using the TensorFlow `name` parameter in the [TF Placeholder](https://www.tensorflow.org/api_docs/python/tf/placeholder).\n",
    "\n",
    "These names will be used at the end of the project to load your saved model.\n",
    "\n",
    "Note: `None` for shapes in TensorFlow allow for a dynamic size."
   ]
  },
  {
   "cell_type": "code",
   "execution_count": 158,
   "metadata": {},
   "outputs": [
    {
     "name": "stdout",
     "output_type": "stream",
     "text": [
      "Image Input Tests Passed.\n",
      "Label Input Tests Passed.\n",
      "Keep Prob Tests Passed.\n"
     ]
    }
   ],
   "source": [
    "import tensorflow as tf\n",
    "\n",
    "def neural_net_image_input(image_shape):\n",
    "    \"\"\"\n",
    "    Return a Tensor for a batch of image input\n",
    "    : image_shape: Shape of the images\n",
    "    : return: Tensor for image input.\n",
    "    \"\"\"\n",
    "    # TODO: Implement Function\n",
    "    return tf.placeholder(tf.float32, (None, image_shape[0], image_shape[1], image_shape[2]), name = 'x')\n",
    "\n",
    "\n",
    "def neural_net_label_input(n_classes):\n",
    "    \"\"\"\n",
    "    Return a Tensor for a batch of label input\n",
    "    : n_classes: Number of classes\n",
    "    : return: Tensor for label input.\n",
    "    \"\"\"\n",
    "    # TODO: Implement Function\n",
    "    return tf.placeholder(tf.float32, (None, n_classes), name = 'y')\n",
    "\n",
    "\n",
    "def neural_net_keep_prob_input():\n",
    "    \"\"\"\n",
    "    Return a Tensor for keep probability\n",
    "    : return: Tensor for keep probability.\n",
    "    \"\"\"\n",
    "    # TODO: Implement Function\n",
    "    return tf.placeholder(tf.float32, None, name = 'keep_prob')\n",
    "\n",
    "\n",
    "\"\"\"\n",
    "DON'T MODIFY ANYTHING IN THIS CELL THAT IS BELOW THIS LINE\n",
    "\"\"\"\n",
    "tf.reset_default_graph()\n",
    "tests.test_nn_image_inputs(neural_net_image_input)\n",
    "tests.test_nn_label_inputs(neural_net_label_input)\n",
    "tests.test_nn_keep_prob_inputs(neural_net_keep_prob_input)"
   ]
  },
  {
   "cell_type": "markdown",
   "metadata": {},
   "source": [
    "### Convolution and Max Pooling Layer\n",
    "Convolution layers have a lot of success with images. For this code cell, you should implement the function `conv2d_maxpool` to apply convolution then max pooling:\n",
    "* Create the weight and bias using `conv_ksize`, `conv_num_outputs` and the shape of `x_tensor`.\n",
    "* Apply a convolution to `x_tensor` using weight and `conv_strides`.\n",
    " * We recommend you use same padding, but you're welcome to use any padding.\n",
    "* Add bias\n",
    "* Add a nonlinear activation to the convolution.\n",
    "* Apply Max Pooling using `pool_ksize` and `pool_strides`.\n",
    " * We recommend you use same padding, but you're welcome to use any padding.\n",
    "\n",
    "**Note:** You **can't** use [TensorFlow Layers](https://www.tensorflow.org/api_docs/python/tf/layers) or [TensorFlow Layers (contrib)](https://www.tensorflow.org/api_guides/python/contrib.layers) for **this** layer, but you can still use TensorFlow's [Neural Network](https://www.tensorflow.org/api_docs/python/tf/nn) package. You may still use the shortcut option for all the **other** layers."
   ]
  },
  {
   "cell_type": "code",
   "execution_count": 173,
   "metadata": {},
   "outputs": [
    {
     "name": "stdout",
     "output_type": "stream",
     "text": [
      "Tests Passed\n"
     ]
    }
   ],
   "source": [
    "def conv2d_maxpool(x_tensor, conv_num_outputs, conv_ksize, conv_strides, pool_ksize, pool_strides):\n",
    "    \"\"\"\n",
    "    Apply convolution then max pooling to x_tensor\n",
    "    :param x_tensor: TensorFlow Tensor\n",
    "    :param conv_num_outputs: Number of outputs for the convolutional layer\n",
    "    :param conv_ksize: kernal size 2-D Tuple for the convolutional layer\n",
    "    :param conv_strides: Stride 2-D Tuple for convolution\n",
    "    :param pool_ksize: kernal size 2-D Tuple for pool\n",
    "    :param pool_strides: Stride 2-D Tuple for pool\n",
    "    : return: A tensor that represents convolution and max pooling of x_tensor\n",
    "    \"\"\"\n",
    "    # TODO: Implement Function\n",
    "    \n",
    "    ## conv layer ##\n",
    "    \n",
    "    weight = tf.Variable(tf.truncated_normal([conv_ksize[0], conv_ksize[1], x_tensor.get_shape()[3].value, conv_num_outputs],\n",
    "                                            stddev=0.1))\n",
    "    bias = tf.Variable(tf.zeros(conv_num_outputs))\n",
    "\n",
    "    # Apply Convolution\n",
    "    conv_layer = tf.nn.conv2d(x_tensor, weight, strides=[1, conv_strides[0], conv_strides[1], 1], padding= 'SAME')\n",
    "    # Add bias\n",
    "    conv_layer = tf.nn.bias_add(conv_layer, bias)\n",
    "    # Apply activation function\n",
    "    conv_layer = tf.nn.relu(conv_layer)\n",
    "    \n",
    "    ## pooling layer ##\n",
    "    \n",
    "    filter_shape = [1, pool_ksize[0], pool_ksize[1], 1]\n",
    "    strides = [1, pool_strides[0], pool_strides[1], 1]\n",
    "    \n",
    "    pool = tf.nn.max_pool(conv_layer, filter_shape, strides, padding='SAME')\n",
    "    \n",
    "    return pool \n",
    "\n",
    "\n",
    "\"\"\"\n",
    "DON'T MODIFY ANYTHING IN THIS CELL THAT IS BELOW THIS LINE\n",
    "\"\"\"\n",
    "tests.test_con_pool(conv2d_maxpool)"
   ]
  },
  {
   "cell_type": "markdown",
   "metadata": {},
   "source": [
    "### Flatten Layer\n",
    "Implement the `flatten` function to change the dimension of `x_tensor` from a 4-D tensor to a 2-D tensor.  The output should be the shape (*Batch Size*, *Flattened Image Size*). Shortcut option: you can use classes from the [TensorFlow Layers](https://www.tensorflow.org/api_docs/python/tf/layers) or [TensorFlow Layers (contrib)](https://www.tensorflow.org/api_guides/python/contrib.layers) packages for this layer. For more of a challenge, only use other TensorFlow packages."
   ]
  },
  {
   "cell_type": "code",
   "execution_count": 174,
   "metadata": {},
   "outputs": [
    {
     "name": "stdout",
     "output_type": "stream",
     "text": [
      "Tests Passed\n"
     ]
    }
   ],
   "source": [
    "def flatten(x_tensor):\n",
    "    \"\"\"\n",
    "    Flatten x_tensor to (Batch Size, Flattened Image Size)\n",
    "    : x_tensor: A tensor of size (Batch Size, ...), where ... are the image dimensions.\n",
    "    : return: A tensor of size (Batch Size, Flattened Image Size).\n",
    "    \"\"\"\n",
    "    # TODO: Implement Function\n",
    "    return tf.contrib.layers.flatten(inputs = x_tensor)\n",
    "\n",
    "\n",
    "\"\"\"\n",
    "DON'T MODIFY ANYTHING IN THIS CELL THAT IS BELOW THIS LINE\n",
    "\"\"\"\n",
    "tests.test_flatten(flatten)"
   ]
  },
  {
   "cell_type": "markdown",
   "metadata": {},
   "source": [
    "### Fully-Connected Layer\n",
    "Implement the `fully_conn` function to apply a fully connected layer to `x_tensor` with the shape (*Batch Size*, *num_outputs*). Shortcut option: you can use classes from the [TensorFlow Layers](https://www.tensorflow.org/api_docs/python/tf/layers) or [TensorFlow Layers (contrib)](https://www.tensorflow.org/api_guides/python/contrib.layers) packages for this layer. For more of a challenge, only use other TensorFlow packages."
   ]
  },
  {
   "cell_type": "code",
   "execution_count": 175,
   "metadata": {},
   "outputs": [
    {
     "name": "stdout",
     "output_type": "stream",
     "text": [
      "Tests Passed\n"
     ]
    }
   ],
   "source": [
    "def fully_conn(x_tensor, num_outputs):\n",
    "    \"\"\"\n",
    "    Apply a fully connected layer to x_tensor using weight and bias\n",
    "    : x_tensor: A 2-D tensor where the first dimension is batch size.\n",
    "    : num_outputs: The number of output that the new tensor should be.\n",
    "    : return: A 2-D tensor where the second dimension is num_outputs.\n",
    "    \"\"\"\n",
    "    # TODO: Implement Function\n",
    "    return tf.contrib.layers.fully_connected(inputs = x_tensor, \n",
    "                                             num_outputs = num_outputs, \n",
    "                                             activation_fn = tf.nn.relu)\n",
    "\n",
    "\n",
    "\"\"\"\n",
    "DON'T MODIFY ANYTHING IN THIS CELL THAT IS BELOW THIS LINE\n",
    "\"\"\"\n",
    "tests.test_fully_conn(fully_conn)"
   ]
  },
  {
   "cell_type": "markdown",
   "metadata": {},
   "source": [
    "### Output Layer\n",
    "Implement the `output` function to apply a fully connected layer to `x_tensor` with the shape (*Batch Size*, *num_outputs*). Shortcut option: you can use classes from the [TensorFlow Layers](https://www.tensorflow.org/api_docs/python/tf/layers) or [TensorFlow Layers (contrib)](https://www.tensorflow.org/api_guides/python/contrib.layers) packages for this layer. For more of a challenge, only use other TensorFlow packages.\n",
    "\n",
    "**Note:** Activation, softmax, or cross entropy should **not** be applied to this."
   ]
  },
  {
   "cell_type": "code",
   "execution_count": 176,
   "metadata": {},
   "outputs": [
    {
     "name": "stdout",
     "output_type": "stream",
     "text": [
      "Tests Passed\n"
     ]
    }
   ],
   "source": [
    "def output(x_tensor, num_outputs):\n",
    "    \"\"\"\n",
    "    Apply a output layer to x_tensor using weight and bias\n",
    "    : x_tensor: A 2-D tensor where the first dimension is batch size.\n",
    "    : num_outputs: The number of output that the new tensor should be.\n",
    "    : return: A 2-D tensor where the second dimension is num_outputs.\n",
    "    \"\"\"\n",
    "    # TODO: Implement Function\n",
    "    return tf.contrib.layers.fully_connected(inputs = x_tensor, \n",
    "                                             num_outputs = num_outputs, \n",
    "                                             activation_fn = None)\n",
    "\n",
    "\n",
    "\"\"\"\n",
    "DON'T MODIFY ANYTHING IN THIS CELL THAT IS BELOW THIS LINE\n",
    "\"\"\"\n",
    "tests.test_output(output)"
   ]
  },
  {
   "cell_type": "markdown",
   "metadata": {},
   "source": [
    "### Create Convolutional Model\n",
    "Implement the function `conv_net` to create a convolutional neural network model. The function takes in a batch of images, `x`, and outputs logits.  Use the layers you created above to create this model:\n",
    "\n",
    "* Apply 1, 2, or 3 Convolution and Max Pool layers\n",
    "* Apply a Flatten Layer\n",
    "* Apply 1, 2, or 3 Fully Connected Layers\n",
    "* Apply an Output Layer\n",
    "* Return the output\n",
    "* Apply [TensorFlow's Dropout](https://www.tensorflow.org/api_docs/python/tf/nn/dropout) to one or more layers in the model using `keep_prob`. "
   ]
  },
  {
   "cell_type": "code",
   "execution_count": 197,
   "metadata": {},
   "outputs": [
    {
     "name": "stdout",
     "output_type": "stream",
     "text": [
      "Neural Network Built!\n"
     ]
    }
   ],
   "source": [
    "def conv_net(x, keep_prob):\n",
    "    \"\"\"\n",
    "    Create a convolutional neural network model\n",
    "    : x: Placeholder tensor that holds image data.\n",
    "    : keep_prob: Placeholder tensor that hold dropout keep probability.\n",
    "    : return: Tensor that represents logits\n",
    "    \"\"\"\n",
    "    # TODO: Apply 1, 2, or 3 Convolution and Max Pool layers\n",
    "    #    Play around with different number of outputs, kernel size and stride\n",
    "    # Function Definition from Above:\n",
    "    #    conv2d_maxpool(x_tensor, conv_num_outputs, conv_ksize, conv_strides, pool_ksize, pool_strides)\n",
    "    \n",
    "    ## convoluation and max pool layer 1 ##\n",
    "    conv = conv2d_maxpool(x_tensor = x, \n",
    "                          conv_num_outputs = 8, \n",
    "                          conv_ksize = (4,4), \n",
    "                          conv_strides = (1,1), \n",
    "                          pool_ksize = (2,2), \n",
    "                          pool_strides = (2,2))\n",
    "    \n",
    "    conv = tf.nn.dropout(x = conv,keep_prob = keep_prob)\n",
    "    \n",
    "    ## convoluation and max pool layer 2 ##\n",
    "    conv = conv2d_maxpool(x_tensor = conv, \n",
    "                               conv_num_outputs = 16, \n",
    "                               conv_ksize = (4,4), \n",
    "                               conv_strides = (1,1), \n",
    "                               pool_ksize = (4,4), \n",
    "                               pool_strides = (2,2))\n",
    "\n",
    "    conv = tf.nn.dropout(x = conv,keep_prob = keep_prob)\n",
    "\n",
    "#     ## convoluation and max pool layer 3 ##\n",
    "#     conv = conv2d_maxpool(x_tensor = conv, \n",
    "#                                conv_num_outputs = 32, \n",
    "#                                conv_ksize = (4,4), \n",
    "#                                conv_strides = (1,1), \n",
    "#                                pool_ksize = (2,2), \n",
    "#                                pool_strides = (2,2))\n",
    "#     conv = tf.nn.dropout(x = conv,keep_prob = keep_prob)\n",
    "\n",
    "    # TODO: Apply a Flatten Layer\n",
    "    # Function Definition from Above:\n",
    "    #   flatten(x_tensor)\n",
    "    \n",
    "    ## flatten layer ##\n",
    "    flatlayer = flatten(conv)\n",
    "\n",
    "    # TODO: Apply 1, 2, or 3 Fully Connected Layers\n",
    "    #    Play around with different number of outputs\n",
    "    # Function Definition from Above:\n",
    "    #   fully_conn(x_tensor, num_outputs)\n",
    "    \n",
    "    ## fully connected layer 1 ##\n",
    "    full_conn = fully_conn(x_tensor = flatlayer, \n",
    "                            num_outputs = 64)\n",
    "    full_conn = tf.nn.dropout(x = full_conn,\n",
    "                                  keep_prob = keep_prob)\n",
    "    \n",
    "    ## fully connected layer 2 ##\n",
    "    full_conn = fully_conn(x_tensor = full_conn, \n",
    "                            num_outputs = 64)\n",
    "    \n",
    "    full_conn = tf.nn.dropout(x = full_conn,\n",
    "                                  keep_prob = keep_prob)\n",
    "\n",
    "\n",
    "    ## fully connected layer 3 ##\n",
    "    full_conn = fully_conn(x_tensor = full_conn, \n",
    "                            num_outputs = 128)\n",
    "    \n",
    "    full_conn = tf.nn.dropout(x = full_conn,\n",
    "                                  keep_prob = keep_prob)\n",
    "\n",
    "\n",
    "    # TODO: Apply an Output Layer\n",
    "    #    Set this to the number of classes\n",
    "    # Function Definition from Above:\n",
    "    #   output(x_tensor, num_outputs)\n",
    "    \n",
    "    outlayer = output(x_tensor = full_conn, \n",
    "                      num_outputs = 10)\n",
    "    \n",
    "    outlayer = tf.nn.dropout(x = outlayer,\n",
    "                                  keep_prob = keep_prob)\n",
    "    \n",
    "    # TODO: return output\n",
    "    return outlayer\n",
    "\n",
    "\"\"\"\n",
    "DON'T MODIFY ANYTHING IN THIS CELL THAT IS BELOW THIS LINE\n",
    "\"\"\"\n",
    "\n",
    "##############################\n",
    "## Build the Neural Network ##\n",
    "##############################\n",
    "\n",
    "# Remove previous weights, bias, inputs, etc..\n",
    "tf.reset_default_graph()\n",
    "\n",
    "# Inputs\n",
    "x = neural_net_image_input((32, 32, 3))\n",
    "y = neural_net_label_input(10)\n",
    "keep_prob = neural_net_keep_prob_input()\n",
    "\n",
    "# Model\n",
    "logits = conv_net(x, keep_prob)\n",
    "\n",
    "# Name logits Tensor, so that is can be loaded from disk after training\n",
    "logits = tf.identity(logits, name='logits')\n",
    "\n",
    "# Loss and Optimizer\n",
    "cost = tf.reduce_mean(tf.nn.softmax_cross_entropy_with_logits(logits=logits, labels=y))\n",
    "optimizer = tf.train.AdamOptimizer().minimize(cost)\n",
    "\n",
    "# Accuracy\n",
    "correct_pred = tf.equal(tf.argmax(logits, 1), tf.argmax(y, 1))\n",
    "accuracy = tf.reduce_mean(tf.cast(correct_pred, tf.float32), name='accuracy')\n",
    "\n",
    "tests.test_conv_net(conv_net)"
   ]
  },
  {
   "cell_type": "markdown",
   "metadata": {},
   "source": [
    "## Train the Neural Network\n",
    "### Single Optimization\n",
    "Implement the function `train_neural_network` to do a single optimization.  The optimization should use `optimizer` to optimize in `session` with a `feed_dict` of the following:\n",
    "* `x` for image input\n",
    "* `y` for labels\n",
    "* `keep_prob` for keep probability for dropout\n",
    "\n",
    "This function will be called for each batch, so `tf.global_variables_initializer()` has already been called.\n",
    "\n",
    "Note: Nothing needs to be returned. This function is only optimizing the neural network."
   ]
  },
  {
   "cell_type": "code",
   "execution_count": 193,
   "metadata": {},
   "outputs": [
    {
     "name": "stdout",
     "output_type": "stream",
     "text": [
      "Tests Passed\n"
     ]
    }
   ],
   "source": [
    "def train_neural_network(session, optimizer, keep_probability, feature_batch, label_batch):\n",
    "    \"\"\"\n",
    "    Optimize the session on a batch of images and labels\n",
    "    : session: Current TensorFlow session\n",
    "    : optimizer: TensorFlow optimizer function\n",
    "    : keep_probability: keep probability\n",
    "    : feature_batch: Batch of Numpy image data\n",
    "    : label_batch: Batch of Numpy label data\n",
    "    \"\"\"\n",
    "    # TODO: Implement Function\n",
    "    session.run(optimizer, feed_dict={x: feature_batch,\n",
    "                                      y: label_batch,\n",
    "                                      keep_prob: keep_probability})\n",
    "\n",
    "\n",
    "\"\"\"\n",
    "DON'T MODIFY ANYTHING IN THIS CELL THAT IS BELOW THIS LINE\n",
    "\"\"\"\n",
    "tests.test_train_nn(train_neural_network)"
   ]
  },
  {
   "cell_type": "markdown",
   "metadata": {},
   "source": [
    "### Show Stats\n",
    "Implement the function `print_stats` to print loss and validation accuracy.  Use the global variables `valid_features` and `valid_labels` to calculate validation accuracy.  Use a keep probability of `1.0` to calculate the loss and validation accuracy."
   ]
  },
  {
   "cell_type": "code",
   "execution_count": 194,
   "metadata": {
    "collapsed": true
   },
   "outputs": [],
   "source": [
    "def print_stats(session, feature_batch, label_batch, cost, accuracy):\n",
    "    \"\"\"\n",
    "    Print information about loss and validation accuracy\n",
    "    : session: Current TensorFlow session\n",
    "    : feature_batch: Batch of Numpy image data\n",
    "    : label_batch: Batch of Numpy label data\n",
    "    : cost: TensorFlow cost function\n",
    "    : accuracy: TensorFlow accuracy function\n",
    "    \"\"\"\n",
    "    # TODO: Implement Function\n",
    "    \n",
    "    batch_cost = session.run(cost, feed_dict={x: feature_batch,\n",
    "                                      y: label_batch,\n",
    "                                      keep_prob: 1.0})\n",
    "    \n",
    "    batch_accuracy = session.run(accuracy, feed_dict={x: valid_features,\n",
    "                                                      y: valid_labels,\n",
    "                                                      keep_prob: 1.0})\n",
    "\n",
    "    print(\"loss: {}...\".format(batch_cost), \"accuracy: {:.4f}...\".format(batch_accuracy))"
   ]
  },
  {
   "cell_type": "markdown",
   "metadata": {},
   "source": [
    "### Hyperparameters\n",
    "Tune the following parameters:\n",
    "* Set `epochs` to the number of iterations until the network stops learning or start overfitting\n",
    "* Set `batch_size` to the highest number that your machine has memory for.  Most people set them to common sizes of memory:\n",
    " * 64\n",
    " * 128\n",
    " * 256\n",
    " * ...\n",
    "* Set `keep_probability` to the probability of keeping a node using dropout"
   ]
  },
  {
   "cell_type": "code",
   "execution_count": 195,
   "metadata": {
    "collapsed": true
   },
   "outputs": [],
   "source": [
    "# TODO: Tune Parameters\n",
    "epochs = 50\n",
    "batch_size = 512\n",
    "keep_probability = 0.75"
   ]
  },
  {
   "cell_type": "markdown",
   "metadata": {},
   "source": [
    "### Train on a Single CIFAR-10 Batch\n",
    "Instead of training the neural network on all the CIFAR-10 batches of data, let's use a single batch. This should save time while you iterate on the model to get a better accuracy.  Once the final validation accuracy is 50% or greater, run the model on all the data in the next section."
   ]
  },
  {
   "cell_type": "code",
   "execution_count": 198,
   "metadata": {},
   "outputs": [
    {
     "name": "stdout",
     "output_type": "stream",
     "text": [
      "Checking the Training on a Single Batch...\n",
      "Epoch  1, CIFAR-10 Batch 1:  loss: 2.267916202545166... accuracy: 0.1600...\n",
      "Epoch  2, CIFAR-10 Batch 1:  loss: 2.1807987689971924... accuracy: 0.1876...\n",
      "Epoch  3, CIFAR-10 Batch 1:  loss: 2.1476662158966064... accuracy: 0.2086...\n",
      "Epoch  4, CIFAR-10 Batch 1:  loss: 2.1095452308654785... accuracy: 0.2178...\n",
      "Epoch  5, CIFAR-10 Batch 1:  loss: 2.0659983158111572... accuracy: 0.2640...\n",
      "Epoch  6, CIFAR-10 Batch 1:  loss: 2.0292270183563232... accuracy: 0.2854...\n",
      "Epoch  7, CIFAR-10 Batch 1:  loss: 2.001013994216919... accuracy: 0.2972...\n",
      "Epoch  8, CIFAR-10 Batch 1:  loss: 1.9479749202728271... accuracy: 0.3166...\n",
      "Epoch  9, CIFAR-10 Batch 1:  loss: 1.8991672992706299... accuracy: 0.3326...\n",
      "Epoch 10, CIFAR-10 Batch 1:  loss: 1.885197639465332... accuracy: 0.3354...\n",
      "Epoch 11, CIFAR-10 Batch 1:  loss: 1.846793532371521... accuracy: 0.3558...\n",
      "Epoch 12, CIFAR-10 Batch 1:  loss: 1.8389525413513184... accuracy: 0.3422...\n",
      "Epoch 13, CIFAR-10 Batch 1:  loss: 1.782570481300354... accuracy: 0.3760...\n",
      "Epoch 14, CIFAR-10 Batch 1:  loss: 1.755475401878357... accuracy: 0.3786...\n",
      "Epoch 15, CIFAR-10 Batch 1:  loss: 1.7682955265045166... accuracy: 0.3916...\n",
      "Epoch 16, CIFAR-10 Batch 1:  loss: 1.726807713508606... accuracy: 0.3996...\n",
      "Epoch 17, CIFAR-10 Batch 1:  loss: 1.6689656972885132... accuracy: 0.4034...\n",
      "Epoch 18, CIFAR-10 Batch 1:  loss: 1.652785062789917... accuracy: 0.3906...\n",
      "Epoch 19, CIFAR-10 Batch 1:  loss: 1.629825234413147... accuracy: 0.4092...\n",
      "Epoch 20, CIFAR-10 Batch 1:  loss: 1.6405872106552124... accuracy: 0.4358...\n",
      "Epoch 21, CIFAR-10 Batch 1:  loss: 1.5750497579574585... accuracy: 0.4322...\n",
      "Epoch 22, CIFAR-10 Batch 1:  loss: 1.5541232824325562... accuracy: 0.4434...\n",
      "Epoch 23, CIFAR-10 Batch 1:  loss: 1.5346440076828003... accuracy: 0.4410...\n",
      "Epoch 24, CIFAR-10 Batch 1:  loss: 1.5486716032028198... accuracy: 0.4254...\n",
      "Epoch 25, CIFAR-10 Batch 1:  loss: 1.5537002086639404... accuracy: 0.4492...\n",
      "Epoch 26, CIFAR-10 Batch 1:  loss: 1.5266966819763184... accuracy: 0.4380...\n",
      "Epoch 27, CIFAR-10 Batch 1:  loss: 1.524115800857544... accuracy: 0.4506...\n",
      "Epoch 28, CIFAR-10 Batch 1:  loss: 1.4780750274658203... accuracy: 0.4564...\n",
      "Epoch 29, CIFAR-10 Batch 1:  loss: 1.4838780164718628... accuracy: 0.4758...\n",
      "Epoch 30, CIFAR-10 Batch 1:  loss: 1.4305516481399536... accuracy: 0.4690...\n",
      "Epoch 31, CIFAR-10 Batch 1:  loss: 1.4231996536254883... accuracy: 0.4824...\n",
      "Epoch 32, CIFAR-10 Batch 1:  loss: 1.407848834991455... accuracy: 0.4916...\n",
      "Epoch 33, CIFAR-10 Batch 1:  loss: 1.3958393335342407... accuracy: 0.4928...\n",
      "Epoch 34, CIFAR-10 Batch 1:  loss: 1.3894009590148926... accuracy: 0.4934...\n",
      "Epoch 35, CIFAR-10 Batch 1:  loss: 1.374341368675232... accuracy: 0.4952...\n",
      "Epoch 36, CIFAR-10 Batch 1:  loss: 1.367123007774353... accuracy: 0.5004...\n",
      "Epoch 37, CIFAR-10 Batch 1:  loss: 1.4040333032608032... accuracy: 0.4818...\n",
      "Epoch 38, CIFAR-10 Batch 1:  loss: 1.347953200340271... accuracy: 0.5012...\n",
      "Epoch 39, CIFAR-10 Batch 1:  loss: 1.3417303562164307... accuracy: 0.4896...\n",
      "Epoch 40, CIFAR-10 Batch 1:  loss: 1.3180886507034302... accuracy: 0.5042...\n",
      "Epoch 41, CIFAR-10 Batch 1:  loss: 1.2982721328735352... accuracy: 0.5004...\n",
      "Epoch 42, CIFAR-10 Batch 1:  loss: 1.3353214263916016... accuracy: 0.4972...\n",
      "Epoch 43, CIFAR-10 Batch 1:  loss: 1.2769142389297485... accuracy: 0.5096...\n",
      "Epoch 44, CIFAR-10 Batch 1:  loss: 1.2838612794876099... accuracy: 0.5028...\n",
      "Epoch 45, CIFAR-10 Batch 1:  loss: 1.28019380569458... accuracy: 0.5150...\n",
      "Epoch 46, CIFAR-10 Batch 1:  loss: 1.2575428485870361... accuracy: 0.5164...\n",
      "Epoch 47, CIFAR-10 Batch 1:  loss: 1.2579948902130127... accuracy: 0.5092...\n",
      "Epoch 48, CIFAR-10 Batch 1:  loss: 1.2179665565490723... accuracy: 0.5228...\n",
      "Epoch 49, CIFAR-10 Batch 1:  loss: 1.2408004999160767... accuracy: 0.5100...\n",
      "Epoch 50, CIFAR-10 Batch 1:  loss: 1.2460087537765503... accuracy: 0.5194...\n"
     ]
    }
   ],
   "source": [
    "\"\"\"\n",
    "DON'T MODIFY ANYTHING IN THIS CELL\n",
    "\"\"\"\n",
    "print('Checking the Training on a Single Batch...')\n",
    "with tf.Session() as sess:\n",
    "    # Initializing the variables\n",
    "    sess.run(tf.global_variables_initializer())\n",
    "    \n",
    "    # Training cycle\n",
    "    for epoch in range(epochs):\n",
    "        batch_i = 1\n",
    "        for batch_features, batch_labels in helper.load_preprocess_training_batch(batch_i, batch_size):\n",
    "            train_neural_network(sess, optimizer, keep_probability, batch_features, batch_labels)\n",
    "        print('Epoch {:>2}, CIFAR-10 Batch {}:  '.format(epoch + 1, batch_i), end='')\n",
    "        print_stats(sess, batch_features, batch_labels, cost, accuracy)"
   ]
  },
  {
   "cell_type": "code",
   "execution_count": 199,
   "metadata": {},
   "outputs": [
    {
     "name": "stdout",
     "output_type": "stream",
     "text": [
      "Training...\n",
      "Epoch  1, CIFAR-10 Batch 1:  loss: 2.298858165740967... accuracy: 0.1390...\n",
      "Epoch  1, CIFAR-10 Batch 2:  loss: 2.2831199169158936... accuracy: 0.1682...\n",
      "Epoch  1, CIFAR-10 Batch 3:  loss: 2.205148696899414... accuracy: 0.2256...\n",
      "Epoch  1, CIFAR-10 Batch 4:  loss: 2.1101067066192627... accuracy: 0.2454...\n",
      "Epoch  1, CIFAR-10 Batch 5:  loss: 2.0923104286193848... accuracy: 0.2660...\n",
      "Epoch  2, CIFAR-10 Batch 1:  loss: 2.0742316246032715... accuracy: 0.2788...\n",
      "Epoch  2, CIFAR-10 Batch 2:  loss: 1.9911197423934937... accuracy: 0.3040...\n",
      "Epoch  2, CIFAR-10 Batch 3:  loss: 1.8861809968948364... accuracy: 0.3446...\n",
      "Epoch  2, CIFAR-10 Batch 4:  loss: 1.7807246446609497... accuracy: 0.3610...\n",
      "Epoch  2, CIFAR-10 Batch 5:  loss: 1.8206490278244019... accuracy: 0.3502...\n",
      "Epoch  3, CIFAR-10 Batch 1:  loss: 1.8173861503601074... accuracy: 0.3716...\n",
      "Epoch  3, CIFAR-10 Batch 2:  loss: 1.7798854112625122... accuracy: 0.3796...\n",
      "Epoch  3, CIFAR-10 Batch 3:  loss: 1.654660701751709... accuracy: 0.3974...\n",
      "Epoch  3, CIFAR-10 Batch 4:  loss: 1.6132383346557617... accuracy: 0.4122...\n",
      "Epoch  3, CIFAR-10 Batch 5:  loss: 1.693151593208313... accuracy: 0.3996...\n",
      "Epoch  4, CIFAR-10 Batch 1:  loss: 1.6965298652648926... accuracy: 0.4196...\n",
      "Epoch  4, CIFAR-10 Batch 2:  loss: 1.6753110885620117... accuracy: 0.4228...\n",
      "Epoch  4, CIFAR-10 Batch 3:  loss: 1.5360472202301025... accuracy: 0.4348...\n",
      "Epoch  4, CIFAR-10 Batch 4:  loss: 1.516170859336853... accuracy: 0.4412...\n",
      "Epoch  4, CIFAR-10 Batch 5:  loss: 1.5877931118011475... accuracy: 0.4356...\n",
      "Epoch  5, CIFAR-10 Batch 1:  loss: 1.6330922842025757... accuracy: 0.4358...\n",
      "Epoch  5, CIFAR-10 Batch 2:  loss: 1.5910511016845703... accuracy: 0.4562...\n",
      "Epoch  5, CIFAR-10 Batch 3:  loss: 1.463430643081665... accuracy: 0.4476...\n",
      "Epoch  5, CIFAR-10 Batch 4:  loss: 1.4682072401046753... accuracy: 0.4586...\n",
      "Epoch  5, CIFAR-10 Batch 5:  loss: 1.5171279907226562... accuracy: 0.4574...\n",
      "Epoch  6, CIFAR-10 Batch 1:  loss: 1.5598742961883545... accuracy: 0.4670...\n",
      "Epoch  6, CIFAR-10 Batch 2:  loss: 1.5281518697738647... accuracy: 0.4770...\n",
      "Epoch  6, CIFAR-10 Batch 3:  loss: 1.4237171411514282... accuracy: 0.4766...\n",
      "Epoch  6, CIFAR-10 Batch 4:  loss: 1.4087706804275513... accuracy: 0.4632...\n",
      "Epoch  6, CIFAR-10 Batch 5:  loss: 1.4637476205825806... accuracy: 0.4592...\n",
      "Epoch  7, CIFAR-10 Batch 1:  loss: 1.4947327375411987... accuracy: 0.4698...\n",
      "Epoch  7, CIFAR-10 Batch 2:  loss: 1.5072072744369507... accuracy: 0.4782...\n",
      "Epoch  7, CIFAR-10 Batch 3:  loss: 1.3936309814453125... accuracy: 0.4838...\n",
      "Epoch  7, CIFAR-10 Batch 4:  loss: 1.362648844718933... accuracy: 0.4838...\n",
      "Epoch  7, CIFAR-10 Batch 5:  loss: 1.4387527704238892... accuracy: 0.4792...\n",
      "Epoch  8, CIFAR-10 Batch 1:  loss: 1.488525629043579... accuracy: 0.4908...\n",
      "Epoch  8, CIFAR-10 Batch 2:  loss: 1.4655961990356445... accuracy: 0.5000...\n",
      "Epoch  8, CIFAR-10 Batch 3:  loss: 1.348776936531067... accuracy: 0.5022...\n",
      "Epoch  8, CIFAR-10 Batch 4:  loss: 1.354465365409851... accuracy: 0.4990...\n",
      "Epoch  8, CIFAR-10 Batch 5:  loss: 1.3754568099975586... accuracy: 0.4970...\n",
      "Epoch  9, CIFAR-10 Batch 1:  loss: 1.4251774549484253... accuracy: 0.5036...\n",
      "Epoch  9, CIFAR-10 Batch 2:  loss: 1.437764286994934... accuracy: 0.5168...\n",
      "Epoch  9, CIFAR-10 Batch 3:  loss: 1.3218249082565308... accuracy: 0.5086...\n",
      "Epoch  9, CIFAR-10 Batch 4:  loss: 1.2929210662841797... accuracy: 0.5102...\n",
      "Epoch  9, CIFAR-10 Batch 5:  loss: 1.3482645750045776... accuracy: 0.5084...\n",
      "Epoch 10, CIFAR-10 Batch 1:  loss: 1.3859891891479492... accuracy: 0.5128...\n",
      "Epoch 10, CIFAR-10 Batch 2:  loss: 1.4093387126922607... accuracy: 0.5172...\n",
      "Epoch 10, CIFAR-10 Batch 3:  loss: 1.3020037412643433... accuracy: 0.5142...\n",
      "Epoch 10, CIFAR-10 Batch 4:  loss: 1.2846256494522095... accuracy: 0.5086...\n",
      "Epoch 10, CIFAR-10 Batch 5:  loss: 1.3346951007843018... accuracy: 0.5134...\n",
      "Epoch 11, CIFAR-10 Batch 1:  loss: 1.3622031211853027... accuracy: 0.5186...\n",
      "Epoch 11, CIFAR-10 Batch 2:  loss: 1.3904365301132202... accuracy: 0.5224...\n",
      "Epoch 11, CIFAR-10 Batch 3:  loss: 1.2800875902175903... accuracy: 0.5158...\n",
      "Epoch 11, CIFAR-10 Batch 4:  loss: 1.2341080904006958... accuracy: 0.5272...\n",
      "Epoch 11, CIFAR-10 Batch 5:  loss: 1.3024893999099731... accuracy: 0.5192...\n",
      "Epoch 12, CIFAR-10 Batch 1:  loss: 1.342058539390564... accuracy: 0.5334...\n",
      "Epoch 12, CIFAR-10 Batch 2:  loss: 1.3476017713546753... accuracy: 0.5408...\n",
      "Epoch 12, CIFAR-10 Batch 3:  loss: 1.245390772819519... accuracy: 0.5392...\n",
      "Epoch 12, CIFAR-10 Batch 4:  loss: 1.211392879486084... accuracy: 0.5378...\n",
      "Epoch 12, CIFAR-10 Batch 5:  loss: 1.3001749515533447... accuracy: 0.5314...\n",
      "Epoch 13, CIFAR-10 Batch 1:  loss: 1.3269245624542236... accuracy: 0.5346...\n",
      "Epoch 13, CIFAR-10 Batch 2:  loss: 1.342057466506958... accuracy: 0.5334...\n",
      "Epoch 13, CIFAR-10 Batch 3:  loss: 1.2429437637329102... accuracy: 0.5460...\n",
      "Epoch 13, CIFAR-10 Batch 4:  loss: 1.1763129234313965... accuracy: 0.5488...\n",
      "Epoch 13, CIFAR-10 Batch 5:  loss: 1.2670154571533203... accuracy: 0.5432...\n",
      "Epoch 14, CIFAR-10 Batch 1:  loss: 1.2996296882629395... accuracy: 0.5478...\n",
      "Epoch 14, CIFAR-10 Batch 2:  loss: 1.320476770401001... accuracy: 0.5506...\n",
      "Epoch 14, CIFAR-10 Batch 3:  loss: 1.2109529972076416... accuracy: 0.5472...\n",
      "Epoch 14, CIFAR-10 Batch 4:  loss: 1.1732361316680908... accuracy: 0.5570...\n",
      "Epoch 14, CIFAR-10 Batch 5:  loss: 1.2336139678955078... accuracy: 0.5526...\n",
      "Epoch 15, CIFAR-10 Batch 1:  loss: 1.2555397748947144... accuracy: 0.5634...\n",
      "Epoch 15, CIFAR-10 Batch 2:  loss: 1.2852497100830078... accuracy: 0.5546...\n",
      "Epoch 15, CIFAR-10 Batch 3:  loss: 1.1715245246887207... accuracy: 0.5672...\n",
      "Epoch 15, CIFAR-10 Batch 4:  loss: 1.1455273628234863... accuracy: 0.5602...\n",
      "Epoch 15, CIFAR-10 Batch 5:  loss: 1.2186379432678223... accuracy: 0.5696...\n",
      "Epoch 16, CIFAR-10 Batch 1:  loss: 1.2612388134002686... accuracy: 0.5592...\n",
      "Epoch 16, CIFAR-10 Batch 2:  loss: 1.2684460878372192... accuracy: 0.5638...\n",
      "Epoch 16, CIFAR-10 Batch 3:  loss: 1.1522654294967651... accuracy: 0.5792...\n",
      "Epoch 16, CIFAR-10 Batch 4:  loss: 1.1271220445632935... accuracy: 0.5736...\n",
      "Epoch 16, CIFAR-10 Batch 5:  loss: 1.2355520725250244... accuracy: 0.5478...\n",
      "Epoch 17, CIFAR-10 Batch 1:  loss: 1.2280274629592896... accuracy: 0.5732...\n",
      "Epoch 17, CIFAR-10 Batch 2:  loss: 1.245187759399414... accuracy: 0.5752...\n",
      "Epoch 17, CIFAR-10 Batch 3:  loss: 1.1398637294769287... accuracy: 0.5808...\n",
      "Epoch 17, CIFAR-10 Batch 4:  loss: 1.1061512231826782... accuracy: 0.5798...\n",
      "Epoch 17, CIFAR-10 Batch 5:  loss: 1.1890407800674438... accuracy: 0.5780...\n",
      "Epoch 18, CIFAR-10 Batch 1:  loss: 1.229705810546875... accuracy: 0.5822...\n",
      "Epoch 18, CIFAR-10 Batch 2:  loss: 1.2481788396835327... accuracy: 0.5788...\n",
      "Epoch 18, CIFAR-10 Batch 3:  loss: 1.135263204574585... accuracy: 0.5808...\n",
      "Epoch 18, CIFAR-10 Batch 4:  loss: 1.0992168188095093... accuracy: 0.5764...\n",
      "Epoch 18, CIFAR-10 Batch 5:  loss: 1.169386386871338... accuracy: 0.5784...\n",
      "Epoch 19, CIFAR-10 Batch 1:  loss: 1.1887973546981812... accuracy: 0.5848...\n",
      "Epoch 19, CIFAR-10 Batch 2:  loss: 1.195940613746643... accuracy: 0.5916...\n",
      "Epoch 19, CIFAR-10 Batch 3:  loss: 1.1148285865783691... accuracy: 0.5818...\n",
      "Epoch 19, CIFAR-10 Batch 4:  loss: 1.0705499649047852... accuracy: 0.5904...\n",
      "Epoch 19, CIFAR-10 Batch 5:  loss: 1.1390782594680786... accuracy: 0.5908...\n",
      "Epoch 20, CIFAR-10 Batch 1:  loss: 1.194632887840271... accuracy: 0.5872...\n",
      "Epoch 20, CIFAR-10 Batch 2:  loss: 1.2003132104873657... accuracy: 0.5876...\n",
      "Epoch 20, CIFAR-10 Batch 3:  loss: 1.1161752939224243... accuracy: 0.5848...\n",
      "Epoch 20, CIFAR-10 Batch 4:  loss: 1.0613325834274292... accuracy: 0.5914...\n",
      "Epoch 20, CIFAR-10 Batch 5:  loss: 1.1309680938720703... accuracy: 0.5902...\n",
      "Epoch 21, CIFAR-10 Batch 1:  loss: 1.184687614440918... accuracy: 0.5896...\n",
      "Epoch 21, CIFAR-10 Batch 2:  loss: 1.1527328491210938... accuracy: 0.5976...\n",
      "Epoch 21, CIFAR-10 Batch 3:  loss: 1.1136806011199951... accuracy: 0.5908...\n",
      "Epoch 21, CIFAR-10 Batch 4:  loss: 1.0507099628448486... accuracy: 0.6004...\n",
      "Epoch 21, CIFAR-10 Batch 5:  loss: 1.1423512697219849... accuracy: 0.5836...\n",
      "Epoch 22, CIFAR-10 Batch 1:  loss: 1.1609309911727905... accuracy: 0.6002...\n",
      "Epoch 22, CIFAR-10 Batch 2:  loss: 1.1579828262329102... accuracy: 0.5986...\n"
     ]
    },
    {
     "name": "stdout",
     "output_type": "stream",
     "text": [
      "Epoch 22, CIFAR-10 Batch 3:  loss: 1.0619635581970215... accuracy: 0.5966...\n",
      "Epoch 22, CIFAR-10 Batch 4:  loss: 1.0140317678451538... accuracy: 0.6052...\n",
      "Epoch 22, CIFAR-10 Batch 5:  loss: 1.106218695640564... accuracy: 0.5904...\n",
      "Epoch 23, CIFAR-10 Batch 1:  loss: 1.1502797603607178... accuracy: 0.5958...\n",
      "Epoch 23, CIFAR-10 Batch 2:  loss: 1.1428537368774414... accuracy: 0.5996...\n",
      "Epoch 23, CIFAR-10 Batch 3:  loss: 1.0464072227478027... accuracy: 0.6074...\n",
      "Epoch 23, CIFAR-10 Batch 4:  loss: 1.0139925479888916... accuracy: 0.6070...\n",
      "Epoch 23, CIFAR-10 Batch 5:  loss: 1.1152896881103516... accuracy: 0.5876...\n",
      "Epoch 24, CIFAR-10 Batch 1:  loss: 1.1426466703414917... accuracy: 0.5978...\n",
      "Epoch 24, CIFAR-10 Batch 2:  loss: 1.1269036531448364... accuracy: 0.6000...\n",
      "Epoch 24, CIFAR-10 Batch 3:  loss: 1.0408176183700562... accuracy: 0.6130...\n",
      "Epoch 24, CIFAR-10 Batch 4:  loss: 1.0097506046295166... accuracy: 0.6150...\n",
      "Epoch 24, CIFAR-10 Batch 5:  loss: 1.0992580652236938... accuracy: 0.6042...\n",
      "Epoch 25, CIFAR-10 Batch 1:  loss: 1.1231906414031982... accuracy: 0.6054...\n",
      "Epoch 25, CIFAR-10 Batch 2:  loss: 1.131018877029419... accuracy: 0.6030...\n",
      "Epoch 25, CIFAR-10 Batch 3:  loss: 1.049766182899475... accuracy: 0.5966...\n",
      "Epoch 25, CIFAR-10 Batch 4:  loss: 1.0010889768600464... accuracy: 0.6104...\n",
      "Epoch 25, CIFAR-10 Batch 5:  loss: 1.0648103952407837... accuracy: 0.6132...\n",
      "Epoch 26, CIFAR-10 Batch 1:  loss: 1.1227104663848877... accuracy: 0.6056...\n",
      "Epoch 26, CIFAR-10 Batch 2:  loss: 1.0900375843048096... accuracy: 0.6136...\n",
      "Epoch 26, CIFAR-10 Batch 3:  loss: 1.0278421640396118... accuracy: 0.6080...\n",
      "Epoch 26, CIFAR-10 Batch 4:  loss: 0.9815265536308289... accuracy: 0.6166...\n",
      "Epoch 26, CIFAR-10 Batch 5:  loss: 1.0614910125732422... accuracy: 0.6080...\n",
      "Epoch 27, CIFAR-10 Batch 1:  loss: 1.1009527444839478... accuracy: 0.6138...\n",
      "Epoch 27, CIFAR-10 Batch 2:  loss: 1.0589770078659058... accuracy: 0.6142...\n",
      "Epoch 27, CIFAR-10 Batch 3:  loss: 1.0571696758270264... accuracy: 0.5936...\n",
      "Epoch 27, CIFAR-10 Batch 4:  loss: 0.9831984043121338... accuracy: 0.6102...\n",
      "Epoch 27, CIFAR-10 Batch 5:  loss: 1.059753179550171... accuracy: 0.6150...\n",
      "Epoch 28, CIFAR-10 Batch 1:  loss: 1.0847681760787964... accuracy: 0.6160...\n",
      "Epoch 28, CIFAR-10 Batch 2:  loss: 1.0638096332550049... accuracy: 0.6172...\n",
      "Epoch 28, CIFAR-10 Batch 3:  loss: 1.0231359004974365... accuracy: 0.6070...\n",
      "Epoch 28, CIFAR-10 Batch 4:  loss: 0.9493029713630676... accuracy: 0.6230...\n",
      "Epoch 28, CIFAR-10 Batch 5:  loss: 1.0407418012619019... accuracy: 0.6168...\n",
      "Epoch 29, CIFAR-10 Batch 1:  loss: 1.0774807929992676... accuracy: 0.6156...\n",
      "Epoch 29, CIFAR-10 Batch 2:  loss: 1.074498176574707... accuracy: 0.6186...\n",
      "Epoch 29, CIFAR-10 Batch 3:  loss: 1.0110583305358887... accuracy: 0.6090...\n",
      "Epoch 29, CIFAR-10 Batch 4:  loss: 0.9643160700798035... accuracy: 0.6200...\n",
      "Epoch 29, CIFAR-10 Batch 5:  loss: 1.0290871858596802... accuracy: 0.6186...\n",
      "Epoch 30, CIFAR-10 Batch 1:  loss: 1.0854310989379883... accuracy: 0.6168...\n",
      "Epoch 30, CIFAR-10 Batch 2:  loss: 1.0354819297790527... accuracy: 0.6252...\n",
      "Epoch 30, CIFAR-10 Batch 3:  loss: 0.9757806658744812... accuracy: 0.6210...\n",
      "Epoch 30, CIFAR-10 Batch 4:  loss: 0.9457451105117798... accuracy: 0.6210...\n",
      "Epoch 30, CIFAR-10 Batch 5:  loss: 1.0220988988876343... accuracy: 0.6278...\n",
      "Epoch 31, CIFAR-10 Batch 1:  loss: 1.0991567373275757... accuracy: 0.6206...\n",
      "Epoch 31, CIFAR-10 Batch 2:  loss: 1.0643393993377686... accuracy: 0.6188...\n",
      "Epoch 31, CIFAR-10 Batch 3:  loss: 1.0093897581100464... accuracy: 0.6078...\n",
      "Epoch 31, CIFAR-10 Batch 4:  loss: 0.9518144130706787... accuracy: 0.6284...\n",
      "Epoch 31, CIFAR-10 Batch 5:  loss: 0.9984854459762573... accuracy: 0.6252...\n",
      "Epoch 32, CIFAR-10 Batch 1:  loss: 1.081181526184082... accuracy: 0.6180...\n",
      "Epoch 32, CIFAR-10 Batch 2:  loss: 1.0687205791473389... accuracy: 0.6230...\n",
      "Epoch 32, CIFAR-10 Batch 3:  loss: 0.9564423561096191... accuracy: 0.6236...\n",
      "Epoch 32, CIFAR-10 Batch 4:  loss: 0.9640979170799255... accuracy: 0.6240...\n",
      "Epoch 32, CIFAR-10 Batch 5:  loss: 1.0246150493621826... accuracy: 0.6210...\n",
      "Epoch 33, CIFAR-10 Batch 1:  loss: 1.0499300956726074... accuracy: 0.6228...\n",
      "Epoch 33, CIFAR-10 Batch 2:  loss: 1.0372811555862427... accuracy: 0.6318...\n",
      "Epoch 33, CIFAR-10 Batch 3:  loss: 0.9557496905326843... accuracy: 0.6320...\n",
      "Epoch 33, CIFAR-10 Batch 4:  loss: 0.9595191478729248... accuracy: 0.6246...\n",
      "Epoch 33, CIFAR-10 Batch 5:  loss: 0.9986572265625... accuracy: 0.6268...\n",
      "Epoch 34, CIFAR-10 Batch 1:  loss: 1.0558748245239258... accuracy: 0.6298...\n",
      "Epoch 34, CIFAR-10 Batch 2:  loss: 1.042686939239502... accuracy: 0.6196...\n",
      "Epoch 34, CIFAR-10 Batch 3:  loss: 0.9967139959335327... accuracy: 0.6132...\n",
      "Epoch 34, CIFAR-10 Batch 4:  loss: 0.9718168377876282... accuracy: 0.6142...\n",
      "Epoch 34, CIFAR-10 Batch 5:  loss: 1.000220537185669... accuracy: 0.6258...\n",
      "Epoch 35, CIFAR-10 Batch 1:  loss: 1.0423686504364014... accuracy: 0.6262...\n",
      "Epoch 35, CIFAR-10 Batch 2:  loss: 1.016695261001587... accuracy: 0.6348...\n",
      "Epoch 35, CIFAR-10 Batch 3:  loss: 0.956587016582489... accuracy: 0.6234...\n",
      "Epoch 35, CIFAR-10 Batch 4:  loss: 0.9363013505935669... accuracy: 0.6272...\n",
      "Epoch 35, CIFAR-10 Batch 5:  loss: 0.9956470131874084... accuracy: 0.6266...\n",
      "Epoch 36, CIFAR-10 Batch 1:  loss: 1.0436878204345703... accuracy: 0.6364...\n",
      "Epoch 36, CIFAR-10 Batch 2:  loss: 1.0216223001480103... accuracy: 0.6312...\n",
      "Epoch 36, CIFAR-10 Batch 3:  loss: 0.9361586570739746... accuracy: 0.6382...\n",
      "Epoch 36, CIFAR-10 Batch 4:  loss: 0.8957709074020386... accuracy: 0.6364...\n",
      "Epoch 36, CIFAR-10 Batch 5:  loss: 0.9603224992752075... accuracy: 0.6444...\n",
      "Epoch 37, CIFAR-10 Batch 1:  loss: 1.0255353450775146... accuracy: 0.6350...\n",
      "Epoch 37, CIFAR-10 Batch 2:  loss: 1.0101312398910522... accuracy: 0.6396...\n",
      "Epoch 37, CIFAR-10 Batch 3:  loss: 0.9122985601425171... accuracy: 0.6410...\n",
      "Epoch 37, CIFAR-10 Batch 4:  loss: 0.9155178666114807... accuracy: 0.6288...\n",
      "Epoch 37, CIFAR-10 Batch 5:  loss: 0.9484118819236755... accuracy: 0.6454...\n",
      "Epoch 38, CIFAR-10 Batch 1:  loss: 1.0284945964813232... accuracy: 0.6432...\n",
      "Epoch 38, CIFAR-10 Batch 2:  loss: 1.0314784049987793... accuracy: 0.6256...\n",
      "Epoch 38, CIFAR-10 Batch 3:  loss: 0.9284098744392395... accuracy: 0.6422...\n",
      "Epoch 38, CIFAR-10 Batch 4:  loss: 0.9004236459732056... accuracy: 0.6470...\n",
      "Epoch 38, CIFAR-10 Batch 5:  loss: 0.9542192816734314... accuracy: 0.6436...\n",
      "Epoch 39, CIFAR-10 Batch 1:  loss: 1.0165119171142578... accuracy: 0.6388...\n",
      "Epoch 39, CIFAR-10 Batch 2:  loss: 0.9909488558769226... accuracy: 0.6458...\n",
      "Epoch 39, CIFAR-10 Batch 3:  loss: 0.9482549428939819... accuracy: 0.6194...\n",
      "Epoch 39, CIFAR-10 Batch 4:  loss: 0.9144837856292725... accuracy: 0.6460...\n",
      "Epoch 39, CIFAR-10 Batch 5:  loss: 0.9478341341018677... accuracy: 0.6362...\n",
      "Epoch 40, CIFAR-10 Batch 1:  loss: 1.0055164098739624... accuracy: 0.6392...\n",
      "Epoch 40, CIFAR-10 Batch 2:  loss: 0.9879377484321594... accuracy: 0.6452...\n",
      "Epoch 40, CIFAR-10 Batch 3:  loss: 0.9005669355392456... accuracy: 0.6494...\n",
      "Epoch 40, CIFAR-10 Batch 4:  loss: 0.8850863575935364... accuracy: 0.6494...\n",
      "Epoch 40, CIFAR-10 Batch 5:  loss: 0.9532408714294434... accuracy: 0.6496...\n",
      "Epoch 41, CIFAR-10 Batch 1:  loss: 0.9893600940704346... accuracy: 0.6444...\n",
      "Epoch 41, CIFAR-10 Batch 2:  loss: 0.9927530288696289... accuracy: 0.6444...\n",
      "Epoch 41, CIFAR-10 Batch 3:  loss: 0.909260630607605... accuracy: 0.6474...\n",
      "Epoch 41, CIFAR-10 Batch 4:  loss: 0.9236604571342468... accuracy: 0.6386...\n",
      "Epoch 41, CIFAR-10 Batch 5:  loss: 0.9364362359046936... accuracy: 0.6476...\n",
      "Epoch 42, CIFAR-10 Batch 1:  loss: 1.0286483764648438... accuracy: 0.6390...\n",
      "Epoch 42, CIFAR-10 Batch 2:  loss: 1.0284382104873657... accuracy: 0.6328...\n",
      "Epoch 42, CIFAR-10 Batch 3:  loss: 0.9168583750724792... accuracy: 0.6324...\n",
      "Epoch 42, CIFAR-10 Batch 4:  loss: 0.8785328269004822... accuracy: 0.6492...\n",
      "Epoch 42, CIFAR-10 Batch 5:  loss: 0.9608917236328125... accuracy: 0.6322...\n",
      "Epoch 43, CIFAR-10 Batch 1:  loss: 0.972327470779419... accuracy: 0.6494...\n",
      "Epoch 43, CIFAR-10 Batch 2:  loss: 0.9656938910484314... accuracy: 0.6468...\n",
      "Epoch 43, CIFAR-10 Batch 3:  loss: 0.9005156755447388... accuracy: 0.6362...\n",
      "Epoch 43, CIFAR-10 Batch 4:  loss: 0.9100387096405029... accuracy: 0.6436...\n"
     ]
    },
    {
     "name": "stdout",
     "output_type": "stream",
     "text": [
      "Epoch 43, CIFAR-10 Batch 5:  loss: 0.9469591379165649... accuracy: 0.6432...\n",
      "Epoch 44, CIFAR-10 Batch 1:  loss: 1.006387710571289... accuracy: 0.6426...\n",
      "Epoch 44, CIFAR-10 Batch 2:  loss: 0.9764527082443237... accuracy: 0.6530...\n",
      "Epoch 44, CIFAR-10 Batch 3:  loss: 0.8808037042617798... accuracy: 0.6458...\n",
      "Epoch 44, CIFAR-10 Batch 4:  loss: 0.8926998972892761... accuracy: 0.6446...\n",
      "Epoch 44, CIFAR-10 Batch 5:  loss: 0.9184519648551941... accuracy: 0.6444...\n",
      "Epoch 45, CIFAR-10 Batch 1:  loss: 0.990517795085907... accuracy: 0.6508...\n",
      "Epoch 45, CIFAR-10 Batch 2:  loss: 0.9991638660430908... accuracy: 0.6352...\n",
      "Epoch 45, CIFAR-10 Batch 3:  loss: 0.8947640657424927... accuracy: 0.6516...\n",
      "Epoch 45, CIFAR-10 Batch 4:  loss: 0.8797882795333862... accuracy: 0.6570...\n",
      "Epoch 45, CIFAR-10 Batch 5:  loss: 0.9045476317405701... accuracy: 0.6550...\n",
      "Epoch 46, CIFAR-10 Batch 1:  loss: 0.9459108710289001... accuracy: 0.6544...\n",
      "Epoch 46, CIFAR-10 Batch 2:  loss: 0.9367596507072449... accuracy: 0.6638...\n",
      "Epoch 46, CIFAR-10 Batch 3:  loss: 0.9182690978050232... accuracy: 0.6352...\n",
      "Epoch 46, CIFAR-10 Batch 4:  loss: 0.8525160551071167... accuracy: 0.6514...\n",
      "Epoch 46, CIFAR-10 Batch 5:  loss: 0.9138959050178528... accuracy: 0.6478...\n",
      "Epoch 47, CIFAR-10 Batch 1:  loss: 0.9612734913825989... accuracy: 0.6556...\n",
      "Epoch 47, CIFAR-10 Batch 2:  loss: 0.9725354313850403... accuracy: 0.6486...\n",
      "Epoch 47, CIFAR-10 Batch 3:  loss: 0.8911378383636475... accuracy: 0.6484...\n",
      "Epoch 47, CIFAR-10 Batch 4:  loss: 0.8702064752578735... accuracy: 0.6524...\n",
      "Epoch 47, CIFAR-10 Batch 5:  loss: 0.8881711363792419... accuracy: 0.6542...\n",
      "Epoch 48, CIFAR-10 Batch 1:  loss: 0.9686089754104614... accuracy: 0.6584...\n",
      "Epoch 48, CIFAR-10 Batch 2:  loss: 0.9396085739135742... accuracy: 0.6620...\n",
      "Epoch 48, CIFAR-10 Batch 3:  loss: 0.8632553219795227... accuracy: 0.6578...\n",
      "Epoch 48, CIFAR-10 Batch 4:  loss: 0.8758724331855774... accuracy: 0.6556...\n",
      "Epoch 48, CIFAR-10 Batch 5:  loss: 0.9157943725585938... accuracy: 0.6496...\n",
      "Epoch 49, CIFAR-10 Batch 1:  loss: 0.9452456831932068... accuracy: 0.6608...\n",
      "Epoch 49, CIFAR-10 Batch 2:  loss: 0.9708480834960938... accuracy: 0.6510...\n",
      "Epoch 49, CIFAR-10 Batch 3:  loss: 0.8742667436599731... accuracy: 0.6478...\n",
      "Epoch 49, CIFAR-10 Batch 4:  loss: 0.8451446294784546... accuracy: 0.6624...\n",
      "Epoch 49, CIFAR-10 Batch 5:  loss: 0.870311439037323... accuracy: 0.6610...\n",
      "Epoch 50, CIFAR-10 Batch 1:  loss: 0.9737969636917114... accuracy: 0.6614...\n",
      "Epoch 50, CIFAR-10 Batch 2:  loss: 0.967734694480896... accuracy: 0.6520...\n",
      "Epoch 50, CIFAR-10 Batch 3:  loss: 0.8592531681060791... accuracy: 0.6488...\n",
      "Epoch 50, CIFAR-10 Batch 4:  loss: 0.859491765499115... accuracy: 0.6470...\n",
      "Epoch 50, CIFAR-10 Batch 5:  loss: 0.8771958351135254... accuracy: 0.6646...\n"
     ]
    }
   ],
   "source": [
    "\"\"\"\n",
    "DON'T MODIFY ANYTHING IN THIS CELL\n",
    "\"\"\"\n",
    "save_model_path = './image_classification'\n",
    "\n",
    "print('Training...')\n",
    "with tf.Session() as sess:\n",
    "    # Initializing the variables\n",
    "    sess.run(tf.global_variables_initializer())\n",
    "    \n",
    "    # Training cycle\n",
    "    for epoch in range(epochs):\n",
    "        # Loop over all batches\n",
    "        n_batches = 5\n",
    "        for batch_i in range(1, n_batches + 1):\n",
    "            for batch_features, batch_labels in helper.load_preprocess_training_batch(batch_i, batch_size):\n",
    "                train_neural_network(sess, optimizer, keep_probability, batch_features, batch_labels)\n",
    "            print('Epoch {:>2}, CIFAR-10 Batch {}:  '.format(epoch + 1, batch_i), end='')\n",
    "            print_stats(sess, batch_features, batch_labels, cost, accuracy)\n",
    "            \n",
    "    # Save Model\n",
    "    saver = tf.train.Saver()\n",
    "    save_path = saver.save(sess, save_model_path)"
   ]
  },
  {
   "cell_type": "markdown",
   "metadata": {},
   "source": [
    "# Checkpoint\n",
    "The model has been saved to disk.\n",
    "## Test Model\n",
    "Test your model against the test dataset.  This will be your final accuracy. You should have an accuracy greater than 50%. If you don't, keep tweaking the model architecture and parameters."
   ]
  },
  {
   "cell_type": "code",
   "execution_count": 200,
   "metadata": {},
   "outputs": [
    {
     "name": "stdout",
     "output_type": "stream",
     "text": [
      "INFO:tensorflow:Restoring parameters from ./image_classification\n",
      "Testing Accuracy: 0.6545611202716828\n",
      "\n"
     ]
    },
    {
     "data": {
      "image/png": "[encoded data removed]",
      "text/plain": [
       "<matplotlib.figure.Figure at 0x10a9da278>"
      ]
     },
     "metadata": {
      "image/png": {
       "height": 319,
       "width": 355
      }
     },
     "output_type": "display_data"
    }
   ],
   "source": [
    "\"\"\"\n",
    "DON'T MODIFY ANYTHING IN THIS CELL\n",
    "\"\"\"\n",
    "%matplotlib inline\n",
    "%config InlineBackend.figure_format = 'retina'\n",
    "\n",
    "import tensorflow as tf\n",
    "import pickle\n",
    "import helper\n",
    "import random\n",
    "\n",
    "# Set batch size if not already set\n",
    "try:\n",
    "    if batch_size:\n",
    "        pass\n",
    "except NameError:\n",
    "    batch_size = 64\n",
    "\n",
    "save_model_path = './image_classification'\n",
    "n_samples = 4\n",
    "top_n_predictions = 3\n",
    "\n",
    "def test_model():\n",
    "    \"\"\"\n",
    "    Test the saved model against the test dataset\n",
    "    \"\"\"\n",
    "\n",
    "    test_features, test_labels = pickle.load(open('preprocess_test.p', mode='rb'))\n",
    "    loaded_graph = tf.Graph()\n",
    "\n",
    "    with tf.Session(graph=loaded_graph) as sess:\n",
    "        # Load model\n",
    "        loader = tf.train.import_meta_graph(save_model_path + '.meta')\n",
    "        loader.restore(sess, save_model_path)\n",
    "\n",
    "        # Get Tensors from loaded model\n",
    "        loaded_x = loaded_graph.get_tensor_by_name('x:0')\n",
    "        loaded_y = loaded_graph.get_tensor_by_name('y:0')\n",
    "        loaded_keep_prob = loaded_graph.get_tensor_by_name('keep_prob:0')\n",
    "        loaded_logits = loaded_graph.get_tensor_by_name('logits:0')\n",
    "        loaded_acc = loaded_graph.get_tensor_by_name('accuracy:0')\n",
    "        \n",
    "        # Get accuracy in batches for memory limitations\n",
    "        test_batch_acc_total = 0\n",
    "        test_batch_count = 0\n",
    "        \n",
    "        for test_feature_batch, test_label_batch in helper.batch_features_labels(test_features, test_labels, batch_size):\n",
    "            test_batch_acc_total += sess.run(\n",
    "                loaded_acc,\n",
    "                feed_dict={loaded_x: test_feature_batch, loaded_y: test_label_batch, loaded_keep_prob: 1.0})\n",
    "            test_batch_count += 1\n",
    "\n",
    "        print('Testing Accuracy: {}\\n'.format(test_batch_acc_total/test_batch_count))\n",
    "\n",
    "        # Print Random Samples\n",
    "        random_test_features, random_test_labels = tuple(zip(*random.sample(list(zip(test_features, test_labels)), n_samples)))\n",
    "        random_test_predictions = sess.run(\n",
    "            tf.nn.top_k(tf.nn.softmax(loaded_logits), top_n_predictions),\n",
    "            feed_dict={loaded_x: random_test_features, loaded_y: random_test_labels, loaded_keep_prob: 1.0})\n",
    "        helper.display_image_predictions(random_test_features, random_test_labels, random_test_predictions)\n",
    "\n",
    "\n",
    "test_model()"
   ]
  },
  {
   "cell_type": "markdown",
   "metadata": {},
   "source": [
    "## Why 50-80% Accuracy?\n",
    "You might be wondering why you can't get an accuracy any higher. First things first, 50% isn't bad for a simple CNN.  Pure guessing would get you 10% accuracy. However, you might notice people are getting scores [well above 80%](http://rodrigob.github.io/are_we_there_yet/build/classification_datasets_results.html#43494641522d3130).  That's because we haven't taught you all there is to know about neural networks. We still need to cover a few more techniques.\n",
    "## Submitting This Project\n",
    "When submitting this project, make sure to run all the cells before saving the notebook.  Save the notebook file as \"dlnd_image_classification.ipynb\" and save it as a HTML file under \"File\" -> \"Download as\".  Include the \"helper.py\" and \"problem_unittests.py\" files in your submission."
   ]
  }
 ],
 "metadata": {
  "kernelspec": {
   "display_name": "Python 3",
   "language": "python",
   "name": "python3"
  },
  "language_info": {
   "codemirror_mode": {
    "name": "ipython",
    "version": 3
   },
   "file_extension": ".py",
   "mimetype": "text/x-python",
   "name": "python",
   "nbconvert_exporter": "python",
   "pygments_lexer": "ipython3",
   "version": "3.6.1"
  }
 },
 "nbformat": 4,
 "nbformat_minor": 1
}
